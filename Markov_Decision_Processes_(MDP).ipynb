{
  "nbformat": 4,
  "nbformat_minor": 0,
  "metadata": {
    "colab": {
      "provenance": [],
      "authorship_tag": "ABX9TyM0goRo3Grm6p2hlgUOIqNT",
      "include_colab_link": true
    },
    "kernelspec": {
      "name": "python3",
      "display_name": "Python 3"
    },
    "language_info": {
      "name": "python"
    }
  },
  "cells": [
    {
      "cell_type": "markdown",
      "metadata": {
        "id": "view-in-github",
        "colab_type": "text"
      },
      "source": [
        "<a href=\"https://colab.research.google.com/github/mostafadentist/python-ipynb/blob/main/Markov_Decision_Processes_(MDP).ipynb\" target=\"_parent\"><img src=\"https://colab.research.google.com/assets/colab-badge.svg\" alt=\"Open In Colab\"/></a>"
      ]
    },
    {
      "cell_type": "code",
      "source": [
        "import numpy as np\n",
        "\n",
        "# States: {0=Good, 1=Bad}\n",
        "# Actions: {0=Do nothing, 1=Repair}\n",
        "# Transition matrices for each action\n",
        "P = {\n",
        "    0: np.array([[0.7, 0.3],\n",
        "                 [0.4, 0.6]]),  # if \"do nothing\"\n",
        "    1: np.array([[0.9, 0.1],\n",
        "                 [0.6, 0.4]])   # if \"repair\"\n",
        "}\n",
        "\n",
        "# Rewards for (state, action)\n",
        "R = {\n",
        "    (0,0): 5, (1,0): 1,\n",
        "    (0,1): 3, (1,1): 2\n",
        "}"
      ],
      "metadata": {
        "id": "Y5qScOG7y2n_"
      },
      "execution_count": 54,
      "outputs": []
    },
    {
      "cell_type": "code",
      "source": [
        "def value_iteration(P, R, states, actions, gamma=0.9, theta=1e-6):\n",
        "    V = np.zeros(len(states))\n",
        "    policy = np.zeros(len(states), dtype=int)\n",
        "\n",
        "    while True:\n",
        "        delta = 0\n",
        "        for s in states:\n",
        "            action_values = []\n",
        "            for a in actions:\n",
        "                value = R[(s,a)] + gamma * np.dot(P[a][s], V)\n",
        "                action_values.append(value)\n",
        "            best_value = max(action_values)\n",
        "            delta = max(delta, abs(best_value - V[s]))\n",
        "            V[s] = best_value\n",
        "            policy[s] = np.argmax(action_values)\n",
        "        if delta < theta:\n",
        "            break\n",
        "    return V, policy\n",
        "\n",
        "states = [0,1]\n",
        "actions = [0,1]\n",
        "V, policy = value_iteration(P, R, states, actions)\n",
        "print(\"Optimal Values:\", V)\n",
        "print(\"Optimal Policy:\", policy)"
      ],
      "metadata": {
        "colab": {
          "base_uri": "https://localhost:8080/"
        },
        "id": "CsqyJhOIy2tg",
        "outputId": "6f938c0b-1475-42a6-a9f7-88c496491513"
      },
      "execution_count": 55,
      "outputs": [
        {
          "output_type": "stream",
          "name": "stdout",
          "text": [
            "Optimal Values: [41.09889406 37.80219136]\n",
            "Optimal Policy: [0 1]\n"
          ]
        }
      ]
    },
    {
      "cell_type": "code",
      "source": [
        "def policy_iteration(P, R, states, actions, gamma=0.9, max_iter=100):\n",
        "    policy = np.zeros(len(states), dtype=int)\n",
        "    V = np.zeros(len(states))\n",
        "\n",
        "    for _ in range(max_iter):\n",
        "        # Policy Evaluation\n",
        "        A = np.eye(len(states))\n",
        "        b = np.zeros(len(states))\n",
        "        for s in states:\n",
        "            a = policy[s]\n",
        "            A[s] -= gamma * P[a][s]\n",
        "            b[s] = R[(s,a)]\n",
        "        V = np.linalg.solve(A, b)\n",
        "\n",
        "        # Policy Improvement\n",
        "        stable = True\n",
        "        for s in states:\n",
        "            action_values = [R[(s,a)] + gamma*np.dot(P[a][s], V) for a in actions]\n",
        "            best_action = np.argmax(action_values)\n",
        "            if best_action != policy[s]:\n",
        "                policy[s] = best_action\n",
        "                stable = False\n",
        "        if stable:\n",
        "            break\n",
        "    return V, policy\n",
        "\n",
        "V, policy = policy_iteration(P, R, states, actions)\n",
        "print(\"Optimal Values (Policy Iteration):\", V)\n",
        "print(\"Optimal Policy:\", policy)"
      ],
      "metadata": {
        "colab": {
          "base_uri": "https://localhost:8080/"
        },
        "id": "ujMAK9OEy20B",
        "outputId": "4cd6a185-1547-42d0-82bb-6db6d3d8b167"
      },
      "execution_count": 56,
      "outputs": [
        {
          "output_type": "stream",
          "name": "stdout",
          "text": [
            "Optimal Values (Policy Iteration): [41.0989011 37.8021978]\n",
            "Optimal Policy: [0 1]\n"
          ]
        }
      ]
    },
    {
      "cell_type": "code",
      "source": [
        "T = 3  # horizon\n",
        "gamma = 0.9\n",
        "V = np.zeros((T+1, len(states)))\n",
        "policy = np.zeros((T, len(states)), dtype=int)\n",
        "\n",
        "for t in reversed(range(T)):\n",
        "    for s in states:\n",
        "        action_values = []\n",
        "        for a in actions:\n",
        "            value = R[(s,a)] + gamma*np.dot(P[a][s], V[t+1])\n",
        "            action_values.append(value)\n",
        "        V[t,s] = max(action_values)\n",
        "        policy[t,s] = np.argmax(action_values)\n",
        "\n",
        "print(\"Finite Horizon Values:\\n\", V)\n",
        "print(\"Finite Horizon Policy:\\n\", policy)"
      ],
      "metadata": {
        "colab": {
          "base_uri": "https://localhost:8080/"
        },
        "id": "07Z9Eqf9y241",
        "outputId": "898c388a-3f15-499b-c269-31037146e660"
      },
      "execution_count": 57,
      "outputs": [
        {
          "output_type": "stream",
          "name": "stdout",
          "text": [
            "Finite Horizon Values:\n",
            " [[11.9381  8.6438]\n",
            " [ 8.69    5.42  ]\n",
            " [ 5.      2.    ]\n",
            " [ 0.      0.    ]]\n",
            "Finite Horizon Policy:\n",
            " [[0 1]\n",
            " [0 1]\n",
            " [0 1]]\n"
          ]
        }
      ]
    },
    {
      "cell_type": "code",
      "source": [],
      "metadata": {
        "id": "x-I4kccny29e"
      },
      "execution_count": null,
      "outputs": []
    },
    {
      "cell_type": "code",
      "source": [],
      "metadata": {
        "id": "iRUCRJPGy3Ib"
      },
      "execution_count": null,
      "outputs": []
    },
    {
      "cell_type": "code",
      "source": [],
      "metadata": {
        "id": "wxWLXOPQy3Nt"
      },
      "execution_count": null,
      "outputs": []
    }
  ]
}