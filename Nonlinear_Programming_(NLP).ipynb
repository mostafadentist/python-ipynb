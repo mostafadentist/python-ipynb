{
  "nbformat": 4,
  "nbformat_minor": 0,
  "metadata": {
    "colab": {
      "provenance": [],
      "authorship_tag": "ABX9TyPr3lBteQiyeanNnq6+xDbT",
      "include_colab_link": true
    },
    "kernelspec": {
      "name": "python3",
      "display_name": "Python 3"
    },
    "language_info": {
      "name": "python"
    }
  },
  "cells": [
    {
      "cell_type": "markdown",
      "metadata": {
        "id": "view-in-github",
        "colab_type": "text"
      },
      "source": [
        "<a href=\"https://colab.research.google.com/github/mostafadentist/python-ipynb/blob/main/Nonlinear_Programming_(NLP).ipynb\" target=\"_parent\"><img src=\"https://colab.research.google.com/assets/colab-badge.svg\" alt=\"Open In Colab\"/></a>"
      ]
    },
    {
      "cell_type": "code",
      "source": [
        "import numpy as np\n",
        "from scipy.optimize import minimize\n",
        "\n",
        "# Objective function\n",
        "f = lambda x: x[0]**2 + 4*x[1]**2 + x[0]*x[1]\n",
        "\n",
        "# Initial guess\n",
        "x0 = [2, 2]\n",
        "\n",
        "res = minimize(f, x0)\n",
        "print(\"Optimal solution:\", res.x)\n",
        "print(\"Optimal value:\", res.fun)"
      ],
      "metadata": {
        "colab": {
          "base_uri": "https://localhost:8080/"
        },
        "id": "iLhRYPNUvFvy",
        "outputId": "00ceb166-06db-4c09-f431-b22b794e5991"
      },
      "execution_count": 18,
      "outputs": [
        {
          "output_type": "stream",
          "name": "stdout",
          "text": [
            "Optimal solution: [-1.77937749e-07  1.23966030e-07]\n",
            "Optimal value: 7.107391215796235e-14\n"
          ]
        }
      ]
    },
    {
      "cell_type": "code",
      "source": [
        "def gradient_descent(f, grad, x0, lr=0.1, tol=1e-6, max_iter=1000):\n",
        "    x = np.array(x0, dtype=float)\n",
        "    for i in range(max_iter):\n",
        "        g = grad(x)\n",
        "        x_new = x - lr*g\n",
        "        if np.linalg.norm(x_new - x) < tol:\n",
        "            break\n",
        "        x = x_new\n",
        "    return x\n",
        "\n",
        "f = lambda x: x[0]**2 + x[1]**2\n",
        "grad = lambda x: np.array([2*x[0], 2*x[1]])\n",
        "\n",
        "x_opt = gradient_descent(f, grad, [10, -5], lr=0.1)\n",
        "print(\"Gradient Descent Optimum:\", x_opt)"
      ],
      "metadata": {
        "colab": {
          "base_uri": "https://localhost:8080/"
        },
        "id": "IcnSOPVyveNa",
        "outputId": "e0ac401c-3419-4f05-a62e-b330880b6acc"
      },
      "execution_count": 19,
      "outputs": [
        {
          "output_type": "stream",
          "name": "stdout",
          "text": [
            "Gradient Descent Optimum: [ 4.01734511e-06 -2.00867256e-06]\n"
          ]
        }
      ]
    },
    {
      "cell_type": "code",
      "source": [
        "from sympy import symbols, diff, solve\n",
        "\n",
        "x, y, l = symbols('x y l')\n",
        "f = x**2 + y**2\n",
        "g = x + y - 1\n",
        "\n",
        "# Lagrangian\n",
        "L = f + l*g\n",
        "\n",
        "# First-order conditions\n",
        "eq1 = diff(L, x)\n",
        "eq2 = diff(L, y)\n",
        "eq3 = diff(L, l)\n",
        "\n",
        "sol = solve([eq1, eq2, eq3], (x, y, l))\n",
        "print(\"Lagrange multiplier solution:\", sol)"
      ],
      "metadata": {
        "colab": {
          "base_uri": "https://localhost:8080/"
        },
        "id": "PC5hRs4gveIF",
        "outputId": "0a39bb67-f308-46fe-a47f-7a905c41032d"
      },
      "execution_count": 20,
      "outputs": [
        {
          "output_type": "stream",
          "name": "stdout",
          "text": [
            "Lagrange multiplier solution: {l: -1, x: 1/2, y: 1/2}\n"
          ]
        }
      ]
    },
    {
      "cell_type": "code",
      "source": [
        "x, l = symbols('x l')\n",
        "f = x**2\n",
        "g = 1 - x  # inequality g(x) ≤ 0\n",
        "\n",
        "L = f + l*g\n",
        "\n",
        "eq1 = diff(L, x)\n",
        "sol = solve([eq1, g], (x,l))\n",
        "print(\"KKT solution:\", sol)"
      ],
      "metadata": {
        "colab": {
          "base_uri": "https://localhost:8080/"
        },
        "id": "qyz7LSu7veCg",
        "outputId": "45359db7-9858-4058-f38d-d4dce40ab39a"
      },
      "execution_count": 21,
      "outputs": [
        {
          "output_type": "stream",
          "name": "stdout",
          "text": [
            "KKT solution: {l: 2, x: 1}\n"
          ]
        }
      ]
    },
    {
      "cell_type": "code",
      "source": [
        "def objective(x):\n",
        "    return x[0]**2 + x[1]**2\n",
        "\n",
        "def constraint(x):\n",
        "    return 1 - (x[0] + x[1])\n",
        "\n",
        "cons = {'type':'eq', 'fun':constraint}\n",
        "x0 = [0.5, 0.5]\n",
        "\n",
        "res = minimize(objective, x0, constraints=cons)\n",
        "print(\"Optimal solution:\", res.x)\n",
        "print(\"Optimal value:\", res.fun)"
      ],
      "metadata": {
        "colab": {
          "base_uri": "https://localhost:8080/"
        },
        "id": "7_tO6wssvd9T",
        "outputId": "2c162278-fd6b-4cca-fa2f-56edef2fe619"
      },
      "execution_count": 22,
      "outputs": [
        {
          "output_type": "stream",
          "name": "stdout",
          "text": [
            "Optimal solution: [0.5 0.5]\n",
            "Optimal value: 0.5\n"
          ]
        }
      ]
    },
    {
      "cell_type": "code",
      "source": [
        "returns = np.array([0.1, 0.2, 0.15])\n",
        "cov = np.array([[0.005, -0.010, 0.004],\n",
        "                [-0.010, 0.040, -0.002],\n",
        "                [0.004, -0.002, 0.023]])\n",
        "\n",
        "def portfolio_variance(w):\n",
        "    return w.T @ cov @ w\n",
        "\n",
        "cons = ({'type':'eq', 'fun': lambda w: np.sum(w) - 1},   # weights sum to 1\n",
        "        {'type':'ineq','fun': lambda w: np.dot(w, returns) - 0.15}) # min return\n",
        "\n",
        "x0 = np.array([1/3,1/3,1/3])\n",
        "res = minimize(portfolio_variance, x0, constraints=cons)\n",
        "print(\"Optimal portfolio weights:\", res.x)"
      ],
      "metadata": {
        "colab": {
          "base_uri": "https://localhost:8080/"
        },
        "id": "8GT1wErNvd4H",
        "outputId": "61207a38-4162-4760-a1c0-2927757ac451"
      },
      "execution_count": 23,
      "outputs": [
        {
          "output_type": "stream",
          "name": "stdout",
          "text": [
            "Optimal portfolio weights: [0.40366972 0.40366972 0.19266055]\n"
          ]
        }
      ]
    },
    {
      "cell_type": "code",
      "source": [],
      "metadata": {
        "id": "06OSc2kCvdyT"
      },
      "execution_count": null,
      "outputs": []
    },
    {
      "cell_type": "code",
      "source": [],
      "metadata": {
        "id": "cQQZo5PLvds1"
      },
      "execution_count": null,
      "outputs": []
    },
    {
      "cell_type": "code",
      "source": [],
      "metadata": {
        "id": "b-kfuhedvdnq"
      },
      "execution_count": null,
      "outputs": []
    },
    {
      "cell_type": "code",
      "source": [],
      "metadata": {
        "id": "DxzdI4DZvdiX"
      },
      "execution_count": null,
      "outputs": []
    },
    {
      "cell_type": "code",
      "source": [],
      "metadata": {
        "id": "AZ48L_PWvddS"
      },
      "execution_count": null,
      "outputs": []
    },
    {
      "cell_type": "code",
      "source": [],
      "metadata": {
        "id": "LvprRiUnvdYj"
      },
      "execution_count": null,
      "outputs": []
    },
    {
      "cell_type": "code",
      "source": [],
      "metadata": {
        "id": "fvzvBA9uvdTi"
      },
      "execution_count": null,
      "outputs": []
    },
    {
      "cell_type": "code",
      "source": [],
      "metadata": {
        "id": "ccBIEEfrvdOk"
      },
      "execution_count": null,
      "outputs": []
    }
  ]
}