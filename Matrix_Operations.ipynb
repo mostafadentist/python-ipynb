{
  "nbformat": 4,
  "nbformat_minor": 0,
  "metadata": {
    "colab": {
      "provenance": [],
      "authorship_tag": "ABX9TyMRiHCFB3Dz/JBrMCbs+Bim",
      "include_colab_link": true
    },
    "kernelspec": {
      "name": "python3",
      "display_name": "Python 3"
    },
    "language_info": {
      "name": "python"
    }
  },
  "cells": [
    {
      "cell_type": "markdown",
      "metadata": {
        "id": "view-in-github",
        "colab_type": "text"
      },
      "source": [
        "<a href=\"https://colab.research.google.com/github/mostafadentist/python-ipynb/blob/main/Matrix_Operations.ipynb\" target=\"_parent\"><img src=\"https://colab.research.google.com/assets/colab-badge.svg\" alt=\"Open In Colab\"/></a>"
      ]
    },
    {
      "cell_type": "code",
      "execution_count": 1,
      "metadata": {
        "colab": {
          "base_uri": "https://localhost:8080/"
        },
        "id": "4yoyqLYInqwz",
        "outputId": "bd0fca1a-dccf-4a05-8139-9ba38a47e9de"
      },
      "outputs": [
        {
          "output_type": "stream",
          "name": "stdout",
          "text": [
            "Matrix A:\n",
            " [[1 2 3]\n",
            " [4 5 6]]\n",
            "Matrix B:\n",
            " [[ 7  8  9]\n",
            " [10 11 12]]\n"
          ]
        }
      ],
      "source": [
        "import numpy as np\n",
        "\n",
        "# Creating matrices\n",
        "A = np.array([[1, 2, 3],\n",
        "              [4, 5, 6]])\n",
        "B = np.array([[7, 8, 9],\n",
        "              [10, 11, 12]])\n",
        "\n",
        "print(\"Matrix A:\\n\", A)\n",
        "print(\"Matrix B:\\n\", B)"
      ]
    },
    {
      "cell_type": "code",
      "source": [
        "print(\"A + B =\\n\", A + B)\n",
        "print(\"A - B =\\n\", A - B)"
      ],
      "metadata": {
        "colab": {
          "base_uri": "https://localhost:8080/"
        },
        "id": "zrgBifcLntYK",
        "outputId": "a33e2aeb-d5e6-4ee3-f975-5d6f4f2b5d1e"
      },
      "execution_count": 2,
      "outputs": [
        {
          "output_type": "stream",
          "name": "stdout",
          "text": [
            "A + B =\n",
            " [[ 8 10 12]\n",
            " [14 16 18]]\n",
            "A - B =\n",
            " [[-6 -6 -6]\n",
            " [-6 -6 -6]]\n"
          ]
        }
      ]
    },
    {
      "cell_type": "code",
      "source": [
        "alpha = 3\n",
        "print(\"3 * A =\\n\", alpha * A)"
      ],
      "metadata": {
        "colab": {
          "base_uri": "https://localhost:8080/"
        },
        "id": "6w2QeBABntTp",
        "outputId": "26463a91-5c55-42a1-b501-225b0a1375ef"
      },
      "execution_count": 3,
      "outputs": [
        {
          "output_type": "stream",
          "name": "stdout",
          "text": [
            "3 * A =\n",
            " [[ 3  6  9]\n",
            " [12 15 18]]\n"
          ]
        }
      ]
    },
    {
      "cell_type": "code",
      "source": [
        "# Dot product of matrices (A @ B^T to match dimensions)\n",
        "result = A @ B.T\n",
        "print(\"Matrix multiplication (A × B^T):\\n\", result)\n",
        "\n",
        "# Element-wise multiplication\n",
        "elementwise = A * B\n",
        "print(\"Element-wise multiplication (Hadamard product):\\n\", elementwise)"
      ],
      "metadata": {
        "colab": {
          "base_uri": "https://localhost:8080/"
        },
        "id": "dv4pgXjsntO-",
        "outputId": "03b01f4d-644e-41ec-cdbe-e2ec6a5b9874"
      },
      "execution_count": 4,
      "outputs": [
        {
          "output_type": "stream",
          "name": "stdout",
          "text": [
            "Matrix multiplication (A × B^T):\n",
            " [[ 50  68]\n",
            " [122 167]]\n",
            "Element-wise multiplication (Hadamard product):\n",
            " [[ 7 16 27]\n",
            " [40 55 72]]\n"
          ]
        }
      ]
    },
    {
      "cell_type": "code",
      "source": [
        "print(\"Transpose of A:\\n\", A.T)"
      ],
      "metadata": {
        "colab": {
          "base_uri": "https://localhost:8080/"
        },
        "id": "yyD0bM7rntHg",
        "outputId": "59321911-94ab-4542-8881-875612a93ffc"
      },
      "execution_count": 5,
      "outputs": [
        {
          "output_type": "stream",
          "name": "stdout",
          "text": [
            "Transpose of A:\n",
            " [[1 4]\n",
            " [2 5]\n",
            " [3 6]]\n"
          ]
        }
      ]
    },
    {
      "cell_type": "code",
      "source": [
        "I = np.eye(3)  # 3x3 Identity\n",
        "Z = np.zeros((2,3))  # Zero matrix\n",
        "D = np.diag([1, 2, 3])  # Diagonal matrix\n",
        "\n",
        "print(\"Identity Matrix:\\n\", I)\n",
        "print(\"Zero Matrix:\\n\", Z)\n",
        "print(\"Diagonal Matrix:\\n\", D)"
      ],
      "metadata": {
        "colab": {
          "base_uri": "https://localhost:8080/"
        },
        "id": "ZPFGNkOQntBZ",
        "outputId": "89adafdc-4d23-4232-d80d-c3a2ccaefbeb"
      },
      "execution_count": 6,
      "outputs": [
        {
          "output_type": "stream",
          "name": "stdout",
          "text": [
            "Identity Matrix:\n",
            " [[1. 0. 0.]\n",
            " [0. 1. 0.]\n",
            " [0. 0. 1.]]\n",
            "Zero Matrix:\n",
            " [[0. 0. 0.]\n",
            " [0. 0. 0.]]\n",
            "Diagonal Matrix:\n",
            " [[1 0 0]\n",
            " [0 2 0]\n",
            " [0 0 3]]\n"
          ]
        }
      ]
    },
    {
      "cell_type": "code",
      "source": [
        "# Commutativity check\n",
        "A = np.array([[1,2],[3,4]])\n",
        "B = np.array([[5,6],[7,8]])\n",
        "\n",
        "print(\"AB =\\n\", A @ B)\n",
        "print(\"BA =\\n\", B @ A)  # Notice AB ≠ BA usually\n",
        "\n",
        "# Associativity: (AB)C = A(BC)\n",
        "C = np.array([[2,0],[1,2]])\n",
        "left = (A @ B) @ C\n",
        "right = A @ (B @ C)\n",
        "print(\"Associativity check (AB)C vs A(BC):\")\n",
        "print(left)\n",
        "print(right)\n",
        "\n",
        "# Distributivity: A(B + C) = AB + AC\n",
        "dist_left = A @ (B + C)\n",
        "dist_right = (A @ B) + (A @ C)\n",
        "print(\"Distributivity check:\")\n",
        "print(dist_left)\n",
        "print(dist_right)"
      ],
      "metadata": {
        "colab": {
          "base_uri": "https://localhost:8080/"
        },
        "id": "F6cCuugwns8D",
        "outputId": "66d69863-0086-4560-a09b-ede7806165e2"
      },
      "execution_count": 7,
      "outputs": [
        {
          "output_type": "stream",
          "name": "stdout",
          "text": [
            "AB =\n",
            " [[19 22]\n",
            " [43 50]]\n",
            "BA =\n",
            " [[23 34]\n",
            " [31 46]]\n",
            "Associativity check (AB)C vs A(BC):\n",
            "[[ 60  44]\n",
            " [136 100]]\n",
            "[[ 60  44]\n",
            " [136 100]]\n",
            "Distributivity check:\n",
            "[[23 26]\n",
            " [53 58]]\n",
            "[[23 26]\n",
            " [53 58]]\n"
          ]
        }
      ]
    },
    {
      "cell_type": "code",
      "source": [
        "import matplotlib.pyplot as plt\n",
        "\n",
        "# Transformation matrix (rotation + scaling)\n",
        "T = np.array([[0, -1],\n",
        "              [1,  0]])  # 90° rotation\n",
        "\n",
        "# Original square\n",
        "square = np.array([[0,0], [1,0], [1,1], [0,1], [0,0]])\n",
        "\n",
        "# Apply transformation\n",
        "transformed = (T @ square.T).T\n",
        "\n",
        "plt.figure(figsize=(6,6))\n",
        "plt.plot(square[:,0], square[:,1], 'b-', label='Original')\n",
        "plt.plot(transformed[:,0], transformed[:,1], 'r--', label='Transformed')\n",
        "plt.axhline(0, color='gray')\n",
        "plt.axvline(0, color='gray')\n",
        "plt.legend()\n",
        "plt.title(\"Matrix Transformation (Rotation)\")\n",
        "plt.grid(True)\n",
        "plt.show()"
      ],
      "metadata": {
        "colab": {
          "base_uri": "https://localhost:8080/",
          "height": 545
        },
        "id": "fJykxPo9ns2x",
        "outputId": "4dd022ba-783f-4acc-e4a2-cf77f71359dc"
      },
      "execution_count": 8,
      "outputs": [
        {
          "output_type": "display_data",
          "data": {
            "text/plain": [
              "<Figure size 600x600 with 1 Axes>"
            ],
            "image/png": "[encoded data removed]"
          },
          "metadata": {}
        }
      ]
    },
    {
      "cell_type": "code",
      "source": [
        "import matplotlib.pyplot as plt\n",
        "\n",
        "# Transformation matrix (rotation + scaling)\n",
        "T = np.array([[0, -1],\n",
        "              [1,  0]])  # 90° rotation\n",
        "\n",
        "# Original square\n",
        "square = np.array([[0,0], [1,0], [1,1], [0,1], [0,0]])\n",
        "\n",
        "# Apply transformation\n",
        "transformed = (T @ square.T).T\n",
        "\n",
        "plt.figure(figsize=(6,6))\n",
        "plt.plot(square[:,0], square[:,1], 'b-', label='Original')\n",
        "plt.plot(transformed[:,0], transformed[:,1], 'r--', label='Transformed')\n",
        "plt.axhline(0, color='gray')\n",
        "plt.axvline(0, color='gray')\n",
        "plt.legend()\n",
        "plt.title(\"Matrix Transformation (Rotation)\")\n",
        "plt.grid(True)\n",
        "plt.show()"
      ],
      "metadata": {
        "colab": {
          "base_uri": "https://localhost:8080/",
          "height": 545
        },
        "id": "QcmkEvnQnsx5",
        "outputId": "ead8d837-f78c-4a75-9902-2fb328a04a93"
      },
      "execution_count": 9,
      "outputs": [
        {
          "output_type": "display_data",
          "data": {
            "text/plain": [
              "<Figure size 600x600 with 1 Axes>"
            ],
            "image/png": "[encoded data removed]"
          },
          "metadata": {}
        }
      ]
    },
    {
      "cell_type": "code",
      "source": [],
      "metadata": {
        "id": "sMXArLHinstY"
      },
      "execution_count": null,
      "outputs": []
    },
    {
      "cell_type": "code",
      "source": [],
      "metadata": {
        "id": "_LO-8CsTnsom"
      },
      "execution_count": null,
      "outputs": []
    },
    {
      "cell_type": "code",
      "source": [],
      "metadata": {
        "id": "k2KgK-Emnsjz"
      },
      "execution_count": null,
      "outputs": []
    },
    {
      "cell_type": "code",
      "source": [],
      "metadata": {
        "id": "djbil7eTnse_"
      },
      "execution_count": null,
      "outputs": []
    },
    {
      "cell_type": "code",
      "source": [],
      "metadata": {
        "id": "Z_XKgDmcnsaH"
      },
      "execution_count": null,
      "outputs": []
    },
    {
      "cell_type": "code",
      "source": [],
      "metadata": {
        "id": "E6yXmor1nsVN"
      },
      "execution_count": null,
      "outputs": []
    },
    {
      "cell_type": "code",
      "source": [],
      "metadata": {
        "id": "CXDA7XsgnsQ_"
      },
      "execution_count": null,
      "outputs": []
    },
    {
      "cell_type": "code",
      "source": [],
      "metadata": {
        "id": "6IwUax_gnsMf"
      },
      "execution_count": null,
      "outputs": []
    },
    {
      "cell_type": "code",
      "source": [],
      "metadata": {
        "id": "2XY27ojZnsH7"
      },
      "execution_count": null,
      "outputs": []
    },
    {
      "cell_type": "code",
      "source": [],
      "metadata": {
        "id": "1cZQQPe6nsDe"
      },
      "execution_count": null,
      "outputs": []
    },
    {
      "cell_type": "code",
      "source": [],
      "metadata": {
        "id": "vGCGNjBCnr9T"
      },
      "execution_count": null,
      "outputs": []
    },
    {
      "cell_type": "code",
      "source": [],
      "metadata": {
        "id": "3oCy52fQnr1l"
      },
      "execution_count": null,
      "outputs": []
    }
  ]
}