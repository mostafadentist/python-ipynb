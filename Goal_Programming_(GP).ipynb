{
  "nbformat": 4,
  "nbformat_minor": 0,
  "metadata": {
    "colab": {
      "provenance": [],
      "authorship_tag": "ABX9TyNUbe0a+xcvE2Gk1WGuzQl+",
      "include_colab_link": true
    },
    "kernelspec": {
      "name": "python3",
      "display_name": "Python 3"
    },
    "language_info": {
      "name": "python"
    }
  },
  "cells": [
    {
      "cell_type": "markdown",
      "metadata": {
        "id": "view-in-github",
        "colab_type": "text"
      },
      "source": [
        "<a href=\"https://colab.research.google.com/github/mostafadentist/python-ipynb/blob/main/Goal_Programming_(GP).ipynb\" target=\"_parent\"><img src=\"https://colab.research.google.com/assets/colab-badge.svg\" alt=\"Open In Colab\"/></a>"
      ]
    },
    {
      "cell_type": "code",
      "source": [
        "from pulp import *\n",
        "\n",
        "# Define model\n",
        "model = LpProblem(\"Goal_Programming\", LpMinimize)\n",
        "\n",
        "# Decision vars\n",
        "xA = LpVariable(\"Product_A\", lowBound=0)\n",
        "xB = LpVariable(\"Product_B\", lowBound=0)\n",
        "\n",
        "# Deviational vars\n",
        "d1_minus = LpVariable(\"d1_minus\", lowBound=0)  # underachievement of goal 1\n",
        "d2_minus = LpVariable(\"d2_minus\", lowBound=0)  # underachievement of goal 2\n",
        "d3_plus  = LpVariable(\"d3_plus\",  lowBound=0)  # overuse of labor\n",
        "\n",
        "# Constraints with deviations\n",
        "model += xA + d1_minus >= 100   # Goal 1\n",
        "model += xB + d2_minus >= 80    # Goal 2\n",
        "model += 2*xA + 3*xB - d3_plus <= 200  # Goal 3\n",
        "\n",
        "# Objective: Minimize deviations\n",
        "model += d1_minus + d2_minus + d3_plus\n",
        "\n",
        "model.solve()\n",
        "print(\"Product A =\", xA.value())\n",
        "print(\"Product B =\", xB.value())\n",
        "print(\"Deviations:\", d1_minus.value(), d2_minus.value(), d3_plus.value())"
      ],
      "metadata": {
        "colab": {
          "base_uri": "https://localhost:8080/"
        },
        "id": "x-I4kccny29e",
        "outputId": "b2492ef1-7aac-4645-d70c-1fc46d542251"
      },
      "execution_count": 58,
      "outputs": [
        {
          "output_type": "stream",
          "name": "stdout",
          "text": [
            "Product A = 100.0\n",
            "Product B = 0.0\n",
            "Deviations: 0.0 80.0 0.0\n"
          ]
        }
      ]
    },
    {
      "cell_type": "code",
      "source": [
        "# Weighted deviations\n",
        "w1, w2, w3 = 5, 3, 1\n",
        "\n",
        "model = LpProblem(\"Weighted_GP\", LpMinimize)\n",
        "\n",
        "xA = LpVariable(\"Product_A\", lowBound=0)\n",
        "xB = LpVariable(\"Product_B\", lowBound=0)\n",
        "d1_minus = LpVariable(\"d1_minus\", lowBound=0)\n",
        "d2_minus = LpVariable(\"d2_minus\", lowBound=0)\n",
        "d3_plus  = LpVariable(\"d3_plus\",  lowBound=0)\n",
        "\n",
        "model += xA + d1_minus >= 100\n",
        "model += xB + d2_minus >= 80\n",
        "model += 2*xA + 3*xB - d3_plus <= 200\n",
        "\n",
        "# Weighted objective\n",
        "model += w1*d1_minus + w2*d2_minus + w3*d3_plus\n",
        "\n",
        "model.solve()\n",
        "print(\"Weighted GP Solution:\")\n",
        "print(\"A =\", xA.value(), \"B =\", xB.value())\n",
        "print(\"Deviations:\", d1_minus.value(), d2_minus.value(), d3_plus.value())"
      ],
      "metadata": {
        "colab": {
          "base_uri": "https://localhost:8080/"
        },
        "id": "iRUCRJPGy3Ib",
        "outputId": "fcdc53d2-fbd6-4949-cfd4-44ac50f06d82"
      },
      "execution_count": 59,
      "outputs": [
        {
          "output_type": "stream",
          "name": "stdout",
          "text": [
            "Weighted GP Solution:\n",
            "A = 100.0 B = 0.0\n",
            "Deviations: 0.0 80.0 0.0\n"
          ]
        }
      ]
    },
    {
      "cell_type": "code",
      "source": [
        "# Example: Assign workers to shifts with goals\n",
        "# Goal 1: At least 5 workers in morning\n",
        "# Goal 2: At least 4 in evening\n",
        "# Goal 3: Minimize overstaffing\n",
        "\n",
        "model = LpProblem(\"Workforce_GP\", LpMinimize)\n",
        "\n",
        "M = LpVariable(\"Morning\", lowBound=0)\n",
        "E = LpVariable(\"Evening\", lowBound=0)\n",
        "d1_minus = LpVariable(\"d1_minus\", lowBound=0)\n",
        "d2_minus = LpVariable(\"d2_minus\", lowBound=0)\n",
        "d3_plus  = LpVariable(\"d3_plus\",  lowBound=0)\n",
        "\n",
        "model += M + d1_minus >= 5\n",
        "model += E + d2_minus >= 4\n",
        "model += M + E - d3_plus <= 12  # max staffing = 12\n",
        "\n",
        "model += 10*d1_minus + 8*d2_minus + d3_plus  # weighted deviations\n",
        "\n",
        "model.solve()\n",
        "print(\"Morning =\", M.value(), \"Evening =\", E.value())\n",
        "print(\"Deviations:\", d1_minus.value(), d2_minus.value(), d3_plus.value())"
      ],
      "metadata": {
        "colab": {
          "base_uri": "https://localhost:8080/"
        },
        "id": "wxWLXOPQy3Nt",
        "outputId": "849ed53f-ce9a-4bef-c69a-076952c6ce65"
      },
      "execution_count": 60,
      "outputs": [
        {
          "output_type": "stream",
          "name": "stdout",
          "text": [
            "Morning = 5.0 Evening = 4.0\n",
            "Deviations: 0.0 0.0 0.0\n"
          ]
        }
      ]
    },
    {
      "cell_type": "code",
      "source": [],
      "metadata": {
        "id": "yGDr5QevzGdD"
      },
      "execution_count": null,
      "outputs": []
    },
    {
      "cell_type": "code",
      "source": [],
      "metadata": {
        "id": "dUOmQvI1zGW1"
      },
      "execution_count": null,
      "outputs": []
    },
    {
      "cell_type": "code",
      "source": [],
      "metadata": {
        "id": "XXxB2zerzGRj"
      },
      "execution_count": null,
      "outputs": []
    },
    {
      "cell_type": "code",
      "source": [],
      "metadata": {
        "id": "BlpJTDkUzGMi"
      },
      "execution_count": null,
      "outputs": []
    },
    {
      "cell_type": "code",
      "source": [],
      "metadata": {
        "id": "PGPTB3njzGHx"
      },
      "execution_count": null,
      "outputs": []
    },
    {
      "cell_type": "code",
      "source": [],
      "metadata": {
        "id": "URrexUG-zGCC"
      },
      "execution_count": null,
      "outputs": []
    }
  ]
}