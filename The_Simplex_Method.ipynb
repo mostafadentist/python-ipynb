{
  "nbformat": 4,
  "nbformat_minor": 0,
  "metadata": {
    "colab": {
      "provenance": [],
      "authorship_tag": "ABX9TyPxjC2bsJPThGSXjZTokshP",
      "include_colab_link": true
    },
    "kernelspec": {
      "name": "python3",
      "display_name": "Python 3"
    },
    "language_info": {
      "name": "python"
    }
  },
  "cells": [
    {
      "cell_type": "markdown",
      "metadata": {
        "id": "view-in-github",
        "colab_type": "text"
      },
      "source": [
        "<a href=\"https://colab.research.google.com/github/mostafadentist/python-ipynb/blob/main/The_Simplex_Method.ipynb\" target=\"_parent\"><img src=\"https://colab.research.google.com/assets/colab-badge.svg\" alt=\"Open In Colab\"/></a>"
      ]
    },
    {
      "cell_type": "code",
      "execution_count": 1,
      "metadata": {
        "colab": {
          "base_uri": "https://localhost:8080/"
        },
        "id": "v27cmjMNrZqm",
        "outputId": "202c46ff-ead4-48e0-8ed7-1edfbf534a9c"
      },
      "outputs": [
        {
          "output_type": "stream",
          "name": "stdout",
          "text": [
            "    x1   x2   s1   s2    RHS\n",
            "0  2.0  1.0  1.0  0.0  100.0\n",
            "1  1.0  3.0  0.0  1.0   90.0\n",
            "2 -3.0 -5.0  0.0  0.0    0.0\n"
          ]
        }
      ],
      "source": [
        "import numpy as np\n",
        "import pandas as pd\n",
        "\n",
        "# Initial simplex tableau for the above problem\n",
        "tableau = np.array([\n",
        "    [2, 1, 1, 0, 100],  # constraint 1\n",
        "    [1, 3, 0, 1, 90],   # constraint 2\n",
        "    [-3, -5, 0, 0, 0]   # objective row\n",
        "], dtype=float)\n",
        "\n",
        "df = pd.DataFrame(tableau,\n",
        "                  columns=[\"x1\", \"x2\", \"s1\", \"s2\", \"RHS\"])\n",
        "print(df)"
      ]
    },
    {
      "cell_type": "code",
      "source": [
        "def pivot(tableau, row, col):\n",
        "    tableau[row] /= tableau[row, col]\n",
        "    for r in range(len(tableau)):\n",
        "        if r != row:\n",
        "            tableau[r] -= tableau[r, col] * tableau[row]\n",
        "    return tableau"
      ],
      "metadata": {
        "id": "oTEXarX4rdLA"
      },
      "execution_count": 2,
      "outputs": []
    },
    {
      "cell_type": "code",
      "source": [
        "def simplex(tableau):\n",
        "    while np.any(tableau[-1,:-1] < 0):  # while there are negative coefficients in objective row\n",
        "        col = np.argmin(tableau[-1,:-1])  # entering variable\n",
        "        ratios = []\n",
        "        for i in range(len(tableau)-1):\n",
        "            if tableau[i,col] > 0:\n",
        "                ratios.append(tableau[i,-1] / tableau[i,col])\n",
        "            else:\n",
        "                ratios.append(np.inf)\n",
        "        row = np.argmin(ratios)  # leaving variable\n",
        "        tableau = pivot(tableau, row, col)\n",
        "    return tableau\n",
        "\n",
        "final_tableau = simplex(tableau.copy())\n",
        "df_final = pd.DataFrame(final_tableau,\n",
        "                        columns=[\"x1\", \"x2\", \"s1\", \"s2\", \"RHS\"])\n",
        "print(\"Final Tableau:\\n\", df_final)"
      ],
      "metadata": {
        "colab": {
          "base_uri": "https://localhost:8080/"
        },
        "id": "5JFRfvydrdF6",
        "outputId": "192bf8aa-0aa2-4577-b6a3-753edd501f41"
      },
      "execution_count": 3,
      "outputs": [
        {
          "output_type": "stream",
          "name": "stdout",
          "text": [
            "Final Tableau:\n",
            "     x1   x2   s1   s2    RHS\n",
            "0  1.0  0.0  0.6 -0.2   42.0\n",
            "1  0.0  1.0 -0.2  0.4   16.0\n",
            "2  0.0  0.0  0.8  1.4  206.0\n"
          ]
        }
      ]
    },
    {
      "cell_type": "code",
      "source": [
        "solution = {\"x1\": 0, \"x2\": 0}\n",
        "for i, var in enumerate([\"x1\",\"x2\",\"s1\",\"s2\"]):\n",
        "    col = final_tableau[:,i]\n",
        "    if list(col).count(1) == 1 and list(col).count(0) == len(col)-1:\n",
        "        row = np.where(col == 1)[0][0]\n",
        "        solution[var] = final_tableau[row,-1]\n",
        "\n",
        "Z = final_tableau[-1,-1]\n",
        "print(\"Optimal Solution:\", solution)\n",
        "print(\"Optimal Value Z =\", Z)"
      ],
      "metadata": {
        "colab": {
          "base_uri": "https://localhost:8080/"
        },
        "id": "pLPnOG4ardBC",
        "outputId": "28603f03-b137-4b47-d178-e9610c661362"
      },
      "execution_count": 4,
      "outputs": [
        {
          "output_type": "stream",
          "name": "stdout",
          "text": [
            "Optimal Solution: {'x1': np.float64(42.0), 'x2': np.float64(16.0)}\n",
            "Optimal Value Z = 206.0\n"
          ]
        }
      ]
    },
    {
      "cell_type": "code",
      "source": [
        "from scipy.optimize import linprog\n",
        "\n",
        "c = [-3, -5]  # maximize 3x1+5x2 → minimize -Z\n",
        "A = [[2,1],[1,3]]\n",
        "b = [100,90]\n",
        "\n",
        "res = linprog(c, A_ub=A, b_ub=b, bounds=(0,None))\n",
        "print(\"SciPy Optimal Solution:\", res.x)\n",
        "print(\"SciPy Optimal Z =\", -res.fun)"
      ],
      "metadata": {
        "colab": {
          "base_uri": "https://localhost:8080/"
        },
        "id": "cO_9EFzarc70",
        "outputId": "0df82a33-b42f-431e-aaae-b443a578e822"
      },
      "execution_count": 5,
      "outputs": [
        {
          "output_type": "stream",
          "name": "stdout",
          "text": [
            "SciPy Optimal Solution: [42. 16.]\n",
            "SciPy Optimal Z = 206.0\n"
          ]
        }
      ]
    },
    {
      "cell_type": "code",
      "source": [],
      "metadata": {
        "id": "E9MIs9fRrc10"
      },
      "execution_count": null,
      "outputs": []
    }
  ]
}