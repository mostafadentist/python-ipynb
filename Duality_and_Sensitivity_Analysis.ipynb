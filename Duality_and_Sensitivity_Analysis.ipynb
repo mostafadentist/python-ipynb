{
  "nbformat": 4,
  "nbformat_minor": 0,
  "metadata": {
    "colab": {
      "provenance": [],
      "authorship_tag": "ABX9TyNogn5QbkY6o/9gbXHxy/Sa",
      "include_colab_link": true
    },
    "kernelspec": {
      "name": "python3",
      "display_name": "Python 3"
    },
    "language_info": {
      "name": "python"
    }
  },
  "cells": [
    {
      "cell_type": "markdown",
      "metadata": {
        "id": "view-in-github",
        "colab_type": "text"
      },
      "source": [
        "<a href=\"https://colab.research.google.com/github/mostafadentist/python-ipynb/blob/main/Duality_and_Sensitivity_Analysis.ipynb\" target=\"_parent\"><img src=\"https://colab.research.google.com/assets/colab-badge.svg\" alt=\"Open In Colab\"/></a>"
      ]
    },
    {
      "cell_type": "code",
      "execution_count": 2,
      "metadata": {
        "colab": {
          "base_uri": "https://localhost:8080/"
        },
        "id": "gJFs5pSErxlW",
        "outputId": "606b1159-5764-4563-fda5-703d5c478dce"
      },
      "outputs": [
        {
          "output_type": "stream",
          "name": "stdout",
          "text": [
            "Collecting pulp\n",
            "  Downloading pulp-3.2.2-py3-none-any.whl.metadata (6.9 kB)\n",
            "Downloading pulp-3.2.2-py3-none-any.whl (16.4 MB)\n",
            "\u001b[2K   \u001b[90m━━━━━━━━━━━━━━━━━━━━━━━━━━━━━━━━━━━━━━━━\u001b[0m \u001b[32m16.4/16.4 MB\u001b[0m \u001b[31m72.6 MB/s\u001b[0m eta \u001b[36m0:00:00\u001b[0m\n",
            "\u001b[?25hInstalling collected packages: pulp\n",
            "Successfully installed pulp-3.2.2\n",
            "Primal Solution:\n",
            "x1 = 42.0\n",
            "x2 = 16.0\n",
            "Optimal Z = 206.0\n"
          ]
        }
      ],
      "source": [
        "!pip install pulp\n",
        "from pulp import *\n",
        "\n",
        "# Primal Problem\n",
        "model = LpProblem(\"Primal_LP\", LpMaximize)\n",
        "\n",
        "x1 = LpVariable(\"x1\", lowBound=0)\n",
        "x2 = LpVariable(\"x2\", lowBound=0)\n",
        "\n",
        "# Objective\n",
        "model += 3*x1 + 5*x2\n",
        "\n",
        "# Constraints\n",
        "model += 2*x1 + x2 <= 100\n",
        "model += x1 + 3*x2 <= 90\n",
        "\n",
        "model.solve()\n",
        "\n",
        "print(\"Primal Solution:\")\n",
        "print(\"x1 =\", x1.value())\n",
        "print(\"x2 =\", x2.value())\n",
        "print(\"Optimal Z =\", model.objective.value())"
      ]
    },
    {
      "cell_type": "code",
      "source": [
        "# Dual Problem\n",
        "dual = LpProblem(\"Dual_LP\", LpMinimize)\n",
        "\n",
        "y1 = LpVariable(\"y1\", lowBound=0)\n",
        "y2 = LpVariable(\"y2\", lowBound=0)\n",
        "\n",
        "dual += 100*y1 + 90*y2  # Objective\n",
        "\n",
        "dual += 2*y1 + y2 >= 3\n",
        "dual += y1 + 3*y2 >= 5\n",
        "\n",
        "dual.solve()\n",
        "\n",
        "print(\"Dual Solution:\")\n",
        "print(\"y1 =\", y1.value())\n",
        "print(\"y2 =\", y2.value())\n",
        "print(\"Optimal W =\", dual.objective.value())"
      ],
      "metadata": {
        "colab": {
          "base_uri": "https://localhost:8080/"
        },
        "id": "ADMccDGZr24c",
        "outputId": "8c057609-06ef-4351-942d-b98375647a1f"
      },
      "execution_count": 3,
      "outputs": [
        {
          "output_type": "stream",
          "name": "stdout",
          "text": [
            "Dual Solution:\n",
            "y1 = 0.8\n",
            "y2 = 1.4\n",
            "Optimal W = 206.0\n"
          ]
        }
      ]
    },
    {
      "cell_type": "code",
      "source": [
        "print(\"Complementary Slackness Check:\")\n",
        "\n",
        "constraint1_slack = 100 - (2*x1.value() + x2.value())\n",
        "constraint2_slack = 90 - (x1.value() + 3*x2.value())\n",
        "\n",
        "print(\"Constraint 1 slack:\", constraint1_slack, \"| Dual var y1 =\", y1.value())\n",
        "print(\"Constraint 2 slack:\", constraint2_slack, \"| Dual var y2 =\", y2.value())"
      ],
      "metadata": {
        "colab": {
          "base_uri": "https://localhost:8080/"
        },
        "id": "oV2fFZkrr2zY",
        "outputId": "c942689b-f622-4442-95c0-d6e9b81de27b"
      },
      "execution_count": 4,
      "outputs": [
        {
          "output_type": "stream",
          "name": "stdout",
          "text": [
            "Complementary Slackness Check:\n",
            "Constraint 1 slack: 0.0 | Dual var y1 = 0.8\n",
            "Constraint 2 slack: 0.0 | Dual var y2 = 1.4\n"
          ]
        }
      ]
    },
    {
      "cell_type": "code",
      "source": [
        "for name, c in model.constraints.items():\n",
        "    print(f\"{name}: Slack = {c.slack}, Shadow Price = {c.pi}\")"
      ],
      "metadata": {
        "colab": {
          "base_uri": "https://localhost:8080/"
        },
        "id": "KrvLJQ2Or2uN",
        "outputId": "840431ae-cfec-4abb-8e00-9562a57f4e2a"
      },
      "execution_count": 5,
      "outputs": [
        {
          "output_type": "stream",
          "name": "stdout",
          "text": [
            "_C1: Slack = -0.0, Shadow Price = 0.8\n",
            "_C2: Slack = -0.0, Shadow Price = 1.4\n"
          ]
        }
      ]
    },
    {
      "cell_type": "code",
      "source": [
        "# Change RHS of first constraint from 100 → 120\n",
        "model.constraints[\"_C1\"].changeRHS(120)\n",
        "model.solve()\n",
        "\n",
        "print(\"New optimal Z after RHS change:\", model.objective.value())"
      ],
      "metadata": {
        "colab": {
          "base_uri": "https://localhost:8080/"
        },
        "id": "D8Qftlqrr2mf",
        "outputId": "e26dde8f-672a-4d3f-a557-119390216f7b"
      },
      "execution_count": 6,
      "outputs": [
        {
          "output_type": "stream",
          "name": "stdout",
          "text": [
            "New optimal Z after RHS change: 222.0\n"
          ]
        }
      ]
    },
    {
      "cell_type": "code",
      "source": [],
      "metadata": {
        "id": "8LECTnwXr2hY"
      },
      "execution_count": null,
      "outputs": []
    },
    {
      "cell_type": "code",
      "source": [],
      "metadata": {
        "id": "wCLDnlNVr2cg"
      },
      "execution_count": null,
      "outputs": []
    },
    {
      "cell_type": "code",
      "source": [],
      "metadata": {
        "id": "xTMd0J9Or2Xo"
      },
      "execution_count": null,
      "outputs": []
    },
    {
      "cell_type": "code",
      "source": [],
      "metadata": {
        "id": "bxiFARxIr2Ry"
      },
      "execution_count": null,
      "outputs": []
    }
  ]
}