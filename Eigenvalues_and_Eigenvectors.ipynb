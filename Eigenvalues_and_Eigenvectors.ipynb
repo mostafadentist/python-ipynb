{
  "nbformat": 4,
  "nbformat_minor": 0,
  "metadata": {
    "colab": {
      "provenance": [],
      "authorship_tag": "ABX9TyNe1vr2eNFLYZWwi9yLu1e2",
      "include_colab_link": true
    },
    "kernelspec": {
      "name": "python3",
      "display_name": "Python 3"
    },
    "language_info": {
      "name": "python"
    }
  },
  "cells": [
    {
      "cell_type": "markdown",
      "metadata": {
        "id": "view-in-github",
        "colab_type": "text"
      },
      "source": [
        "<a href=\"https://colab.research.google.com/github/mostafadentist/python-ipynb/blob/main/Eigenvalues_and_Eigenvectors.ipynb\" target=\"_parent\"><img src=\"https://colab.research.google.com/assets/colab-badge.svg\" alt=\"Open In Colab\"/></a>"
      ]
    },
    {
      "cell_type": "code",
      "execution_count": 1,
      "metadata": {
        "colab": {
          "base_uri": "https://localhost:8080/"
        },
        "id": "eDLYuMFspCEY",
        "outputId": "8d56ae8b-5cb4-4ad1-fe82-2f4a3c68e367"
      },
      "outputs": [
        {
          "output_type": "stream",
          "name": "stdout",
          "text": [
            "Matrix A:\n",
            " [[4 2]\n",
            " [1 3]]\n",
            "Eigenvalues: [5. 2.]\n",
            "Eigenvectors:\n",
            " [[ 0.89442719 -0.70710678]\n",
            " [ 0.4472136   0.70710678]]\n"
          ]
        }
      ],
      "source": [
        "import numpy as np\n",
        "\n",
        "A = np.array([[4, 2],\n",
        "              [1, 3]])\n",
        "\n",
        "# Compute eigenvalues and eigenvectors\n",
        "eigenvalues, eigenvectors = np.linalg.eig(A)\n",
        "\n",
        "print(\"Matrix A:\\n\", A)\n",
        "print(\"Eigenvalues:\", eigenvalues)\n",
        "print(\"Eigenvectors:\\n\", eigenvectors)"
      ]
    },
    {
      "cell_type": "code",
      "source": [
        "# Take first eigenpair\n",
        "lambda1 = eigenvalues[0]\n",
        "v1 = eigenvectors[:,0]\n",
        "\n",
        "# Check A v = λ v\n",
        "lhs = A @ v1\n",
        "rhs = lambda1 * v1\n",
        "\n",
        "print(\"A v =\", lhs)\n",
        "print(\"λ v =\", rhs)"
      ],
      "metadata": {
        "colab": {
          "base_uri": "https://localhost:8080/"
        },
        "id": "Z7XVdktjpIBH",
        "outputId": "c542a89c-fc21-41c4-d1c1-8b40bf862654"
      },
      "execution_count": 2,
      "outputs": [
        {
          "output_type": "stream",
          "name": "stdout",
          "text": [
            "A v = [4.47213595 2.23606798]\n",
            "λ v = [4.47213595 2.23606798]\n"
          ]
        }
      ]
    },
    {
      "cell_type": "code",
      "source": [
        "trace_A = np.trace(A)   # sum of diagonal\n",
        "det_A = np.linalg.det(A)\n",
        "\n",
        "print(\"Trace(A) =\", trace_A, \"≈ sum of eigenvalues =\", np.sum(eigenvalues))\n",
        "print(\"Det(A) =\", det_A, \"≈ product of eigenvalues =\", np.prod(eigenvalues))"
      ],
      "metadata": {
        "colab": {
          "base_uri": "https://localhost:8080/"
        },
        "id": "prXP0tGkpH8d",
        "outputId": "7a100762-a9ce-49c4-ed43-00446c08d57d"
      },
      "execution_count": 3,
      "outputs": [
        {
          "output_type": "stream",
          "name": "stdout",
          "text": [
            "Trace(A) = 7 ≈ sum of eigenvalues = 7.0\n",
            "Det(A) = 10.000000000000002 ≈ product of eigenvalues = 10.0\n"
          ]
        }
      ]
    },
    {
      "cell_type": "code",
      "source": [
        "P = eigenvectors\n",
        "D = np.diag(eigenvalues)\n",
        "\n",
        "# Check if A = P D P⁻¹\n",
        "A_reconstructed = P @ D @ np.linalg.inv(P)\n",
        "print(\"Reconstructed A:\\n\", np.round(A_reconstructed, 3))"
      ],
      "metadata": {
        "colab": {
          "base_uri": "https://localhost:8080/"
        },
        "id": "Y3qA2JYipH3e",
        "outputId": "394074b7-dc08-4237-b1b1-065a13a1b37e"
      },
      "execution_count": 4,
      "outputs": [
        {
          "output_type": "stream",
          "name": "stdout",
          "text": [
            "Reconstructed A:\n",
            " [[4. 2.]\n",
            " [1. 3.]]\n"
          ]
        }
      ]
    },
    {
      "cell_type": "code",
      "source": [
        "import matplotlib.pyplot as plt\n",
        "\n",
        "v = np.array([[1, 1], [2, 1], [-1, 2]])\n",
        "transformed = (A @ v.T).T\n",
        "\n",
        "plt.figure(figsize=(6,6))\n",
        "plt.axhline(0, color='gray')\n",
        "plt.axvline(0, color='gray')\n",
        "\n",
        "# Original vectors\n",
        "for vec in v:\n",
        "    plt.quiver(0,0,vec[0],vec[1],angles='xy',scale_units='xy',scale=1,color='b')\n",
        "\n",
        "# Transformed vectors\n",
        "for vec in transformed:\n",
        "    plt.quiver(0,0,vec[0],vec[1],angles='xy',scale_units='xy',scale=1,color='r')\n",
        "\n",
        "plt.xlim(-5,5)\n",
        "plt.ylim(-5,5)\n",
        "plt.grid(True)\n",
        "plt.title(\"Effect of A on vectors (Original=Blue, Transformed=Red)\")\n",
        "plt.show()"
      ],
      "metadata": {
        "colab": {
          "base_uri": "https://localhost:8080/",
          "height": 545
        },
        "id": "oHCcDfPmpHyw",
        "outputId": "d53f4504-8e47-4d1d-850b-53e1cb4c5907"
      },
      "execution_count": 5,
      "outputs": [
        {
          "output_type": "display_data",
          "data": {
            "text/plain": [
              "<Figure size 600x600 with 1 Axes>"
            ],
            "image/png": "[encoded data removed]"
          },
          "metadata": {}
        }
      ]
    },
    {
      "cell_type": "code",
      "source": [
        "S = np.array([[2, 1],\n",
        "              [1, 2]])\n",
        "\n",
        "eigvals, eigvecs = np.linalg.eig(S)\n",
        "print(\"Eigenvalues of symmetric matrix:\", eigvals)\n",
        "print(\"Eigenvectors (orthogonal):\\n\", eigvecs)"
      ],
      "metadata": {
        "colab": {
          "base_uri": "https://localhost:8080/"
        },
        "id": "VhKxFGYNpHth",
        "outputId": "27fe1fb4-d34f-43d2-f30f-a7a4d9c20be2"
      },
      "execution_count": 6,
      "outputs": [
        {
          "output_type": "stream",
          "name": "stdout",
          "text": [
            "Eigenvalues of symmetric matrix: [3. 1.]\n",
            "Eigenvectors (orthogonal):\n",
            " [[ 0.70710678 -0.70710678]\n",
            " [ 0.70710678  0.70710678]]\n"
          ]
        }
      ]
    },
    {
      "cell_type": "code",
      "source": [
        "# Random dataset\n",
        "X = np.random.randn(100,2) @ np.array([[2,1],[1,3]])\n",
        "\n",
        "# Covariance matrix\n",
        "C = np.cov(X.T)\n",
        "\n",
        "# Eigen decomposition\n",
        "eigvals, eigvecs = np.linalg.eig(C)\n",
        "\n",
        "print(\"Eigenvalues (variance explained):\", eigvals)\n",
        "print(\"Eigenvectors (principal directions):\\n\", eigvecs)"
      ],
      "metadata": {
        "colab": {
          "base_uri": "https://localhost:8080/"
        },
        "id": "L5DxsDCFpHok",
        "outputId": "26fd4a52-de81-4a11-cd0f-ac9c500b6b83"
      },
      "execution_count": 7,
      "outputs": [
        {
          "output_type": "stream",
          "name": "stdout",
          "text": [
            "Eigenvalues (variance explained): [ 2.42142431 12.55089381]\n",
            "Eigenvectors (principal directions):\n",
            " [[-0.83015457 -0.55753331]\n",
            " [ 0.55753331 -0.83015457]]\n"
          ]
        }
      ]
    },
    {
      "cell_type": "code",
      "source": [],
      "metadata": {
        "id": "W7EtgEIrpHj-"
      },
      "execution_count": null,
      "outputs": []
    },
    {
      "cell_type": "code",
      "source": [],
      "metadata": {
        "id": "zlrxRAzBpHeY"
      },
      "execution_count": null,
      "outputs": []
    },
    {
      "cell_type": "code",
      "source": [],
      "metadata": {
        "id": "eDqDffI-pHZ6"
      },
      "execution_count": null,
      "outputs": []
    },
    {
      "cell_type": "code",
      "source": [],
      "metadata": {
        "id": "EwLfl6jCpHVI"
      },
      "execution_count": null,
      "outputs": []
    },
    {
      "cell_type": "code",
      "source": [],
      "metadata": {
        "id": "cPOZq-7lpHPW"
      },
      "execution_count": null,
      "outputs": []
    }
  ]
}