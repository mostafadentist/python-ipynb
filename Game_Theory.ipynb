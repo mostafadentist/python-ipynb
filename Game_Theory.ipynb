{
  "nbformat": 4,
  "nbformat_minor": 0,
  "metadata": {
    "colab": {
      "provenance": [],
      "authorship_tag": "ABX9TyPShCvpGE7+X4epLyy9BgnM",
      "include_colab_link": true
    },
    "kernelspec": {
      "name": "python3",
      "display_name": "Python 3"
    },
    "language_info": {
      "name": "python"
    }
  },
  "cells": [
    {
      "cell_type": "markdown",
      "metadata": {
        "id": "view-in-github",
        "colab_type": "text"
      },
      "source": [
        "<a href=\"https://colab.research.google.com/github/mostafadentist/python-ipynb/blob/main/Game_Theory.ipynb\" target=\"_parent\"><img src=\"https://colab.research.google.com/assets/colab-badge.svg\" alt=\"Open In Colab\"/></a>"
      ]
    },
    {
      "cell_type": "code",
      "execution_count": 1,
      "metadata": {
        "id": "KZ9e2VsWsjGe"
      },
      "outputs": [],
      "source": [
        "import numpy as np\n",
        "\n",
        "# Supply from factories\n",
        "supply = [20, 30, 25]\n",
        "\n",
        "# Demand at warehouses\n",
        "demand = [10, 10, 15, 40]\n",
        "\n",
        "# Cost matrix\n",
        "cost = np.array([[8, 6, 10, 9],\n",
        "                 [9, 12, 13, 7],\n",
        "                 [14, 9, 16, 5]])"
      ]
    },
    {
      "cell_type": "code",
      "source": [
        "def northwest_corner(supply, demand):\n",
        "    supply = supply.copy()\n",
        "    demand = demand.copy()\n",
        "    m, n = len(supply), len(demand)\n",
        "    allocation = np.zeros((m,n))\n",
        "    i = j = 0\n",
        "    while i < m and j < n:\n",
        "        qty = min(supply[i], demand[j])\n",
        "        allocation[i,j] = qty\n",
        "        supply[i] -= qty\n",
        "        demand[j] -= qty\n",
        "        if supply[i] == 0:\n",
        "            i += 1\n",
        "        else:\n",
        "            j += 1\n",
        "    return allocation\n",
        "\n",
        "alloc = northwest_corner(supply, demand)\n",
        "print(\"Northwest Corner Allocation:\\n\", alloc)\n",
        "print(\"Total Cost =\", np.sum(alloc * cost))"
      ],
      "metadata": {
        "colab": {
          "base_uri": "https://localhost:8080/"
        },
        "id": "xzIhHsOhsl-O",
        "outputId": "18c55019-8db5-4078-d5c1-58d0603e45c0"
      },
      "execution_count": 2,
      "outputs": [
        {
          "output_type": "stream",
          "name": "stdout",
          "text": [
            "Northwest Corner Allocation:\n",
            " [[10. 10.  0.  0.]\n",
            " [ 0.  0. 15. 15.]\n",
            " [ 0.  0.  0. 25.]]\n",
            "Total Cost = 565.0\n"
          ]
        }
      ]
    },
    {
      "cell_type": "code",
      "source": [
        "import numpy as np\n",
        "\n",
        "# Example payoff matrix (row player vs column player)\n",
        "# Row player wants to maximize, column player wants to minimize\n",
        "payoff = np.array([[3, -1],\n",
        "                   [0,  2]])\n",
        "\n",
        "print(\"Payoff Matrix:\\n\", payoff)"
      ],
      "metadata": {
        "colab": {
          "base_uri": "https://localhost:8080/"
        },
        "id": "STvz4AQQslam",
        "outputId": "613c3543-3ea2-49c6-a366-1affc4fe6ac1"
      },
      "execution_count": 1,
      "outputs": [
        {
          "output_type": "stream",
          "name": "stdout",
          "text": [
            "Payoff Matrix:\n",
            " [[ 3 -1]\n",
            " [ 0  2]]\n"
          ]
        }
      ]
    },
    {
      "cell_type": "code",
      "source": [
        "row_min = payoff.min(axis=1)   # worst-case for row player\n",
        "col_max = payoff.max(axis=0)   # worst-case for column player\n",
        "\n",
        "maximin = row_min.max()  # Row player strategy\n",
        "minimax = col_max.min()  # Column player strategy\n",
        "\n",
        "print(\"Maximin =\", maximin)\n",
        "print(\"Minimax =\", minimax)\n",
        "\n",
        "if maximin == minimax:\n",
        "    print(\"Saddle point exists at value =\", maximin)\n",
        "else:\n",
        "    print(\"No saddle point, need mixed strategies\")"
      ],
      "metadata": {
        "colab": {
          "base_uri": "https://localhost:8080/"
        },
        "id": "zNomSlc4slVx",
        "outputId": "5dba76ee-8825-40f4-a795-3137d80db76d"
      },
      "execution_count": 2,
      "outputs": [
        {
          "output_type": "stream",
          "name": "stdout",
          "text": [
            "Maximin = 0\n",
            "Minimax = 2\n",
            "No saddle point, need mixed strategies\n"
          ]
        }
      ]
    },
    {
      "cell_type": "code",
      "source": [
        "# Payoff matrix for row player\n",
        "a, b, c, d = 3, -1, 0, 2  # entries of 2x2 matrix\n",
        "\n",
        "# Probabilities for row player\n",
        "p1 = (d-b) / (a - b - c + d)\n",
        "p2 = 1 - p1\n",
        "\n",
        "# Value of the game\n",
        "V = (a*d - b*c) / (a - b - c + d)\n",
        "\n",
        "print(\"Row player's strategy: (p1, p2) =\", (p1, p2))\n",
        "print(\"Value of the game =\", V)"
      ],
      "metadata": {
        "colab": {
          "base_uri": "https://localhost:8080/"
        },
        "id": "QMNLR5m0slQ2",
        "outputId": "8ab38081-29fa-4958-a0e1-955e0e45bfc2"
      },
      "execution_count": 3,
      "outputs": [
        {
          "output_type": "stream",
          "name": "stdout",
          "text": [
            "Row player's strategy: (p1, p2) = (0.5, 0.5)\n",
            "Value of the game = 1.0\n"
          ]
        }
      ]
    },
    {
      "cell_type": "code",
      "source": [
        "from scipy.optimize import linprog\n",
        "\n",
        "# Example 3x3 payoff matrix\n",
        "payoff = np.array([[2, -1, 3],\n",
        "                   [0,  2, -2],\n",
        "                   [1, -1, 4]])\n",
        "\n",
        "m, n = payoff.shape\n",
        "\n",
        "# Convert to minimization LP by shifting payoffs to positive\n",
        "k = abs(payoff.min()) + 1\n",
        "payoff_shifted = payoff + k\n",
        "\n",
        "# Variables: probabilities of row player\n",
        "c = [1]*m  # objective (minimize sum of variables)\n",
        "A = -payoff_shifted.T\n",
        "b = [-1]*n\n",
        "\n",
        "res = linprog(c, A_ub=A, b_ub=b, bounds=(0,None))\n",
        "p = res.x / res.x.sum()\n",
        "\n",
        "print(\"Row player's optimal mixed strategy:\", p)\n",
        "print(\"Value of game (adjusted back):\", 1/res.fun - k)"
      ],
      "metadata": {
        "colab": {
          "base_uri": "https://localhost:8080/"
        },
        "id": "-HouK1eDslLr",
        "outputId": "93adb07f-7159-4595-aa3c-8ed67373bd2b"
      },
      "execution_count": 4,
      "outputs": [
        {
          "output_type": "stream",
          "name": "stdout",
          "text": [
            "Row player's optimal mixed strategy: [0.15384615 0.53846154 0.30769231]\n",
            "Value of game (adjusted back): 0.6153846153846154\n"
          ]
        }
      ]
    },
    {
      "cell_type": "code",
      "source": [
        "from scipy.optimize import linprog\n",
        "\n",
        "# Example 3x3 payoff matrix\n",
        "payoff = np.array([[2, -1, 3],\n",
        "                   [0,  2, -2],\n",
        "                   [1, -1, 4]])\n",
        "\n",
        "m, n = payoff.shape\n",
        "\n",
        "# Convert to minimization LP by shifting payoffs to positive\n",
        "k = abs(payoff.min()) + 1\n",
        "payoff_shifted = payoff + k\n",
        "\n",
        "# Variables: probabilities of row player\n",
        "c = [1]*m  # objective (minimize sum of variables)\n",
        "A = -payoff_shifted.T\n",
        "b = [-1]*n\n",
        "\n",
        "res = linprog(c, A_ub=A, b_ub=b, bounds=(0,None))\n",
        "p = res.x / res.x.sum()\n",
        "\n",
        "print(\"Row player's optimal mixed strategy:\", p)\n",
        "print(\"Value of game (adjusted back):\", 1/res.fun - k)"
      ],
      "metadata": {
        "colab": {
          "base_uri": "https://localhost:8080/"
        },
        "id": "dCO5T7h-slGt",
        "outputId": "4c6f4477-e03b-4809-f352-ef5938cdd2c5"
      },
      "execution_count": 5,
      "outputs": [
        {
          "output_type": "stream",
          "name": "stdout",
          "text": [
            "Row player's optimal mixed strategy: [0.15384615 0.53846154 0.30769231]\n",
            "Value of game (adjusted back): 0.6153846153846154\n"
          ]
        }
      ]
    },
    {
      "cell_type": "code",
      "source": [
        "import matplotlib.pyplot as plt\n",
        "\n",
        "p = np.linspace(0,1,100)\n",
        "payoff = np.array([[3, -1, 2],\n",
        "                   [0,  2, 1]])\n",
        "\n",
        "# Expected payoff for each column strategy\n",
        "for j in range(payoff.shape[1]):\n",
        "    payoff_j = p*payoff[0,j] + (1-p)*payoff[1,j]\n",
        "    plt.plot(p, payoff_j, label=f\"Col{j+1}\")\n",
        "\n",
        "plt.xlabel(\"Probability of playing Row1 (p)\")\n",
        "plt.ylabel(\"Expected Payoff\")\n",
        "plt.title(\"Graphical Method for 2xn Game\")\n",
        "plt.legend()\n",
        "plt.grid(True)\n",
        "plt.show()"
      ],
      "metadata": {
        "colab": {
          "base_uri": "https://localhost:8080/",
          "height": 472
        },
        "id": "5pkrKkYctbZB",
        "outputId": "b1a45e11-7f73-4c40-d182-2de086f0fa38"
      },
      "execution_count": 6,
      "outputs": [
        {
          "output_type": "display_data",
          "data": {
            "text/plain": [
              "<Figure size 640x480 with 1 Axes>"
            ],
            "image/png": "[encoded data removed]"
          },
          "metadata": {}
        }
      ]
    },
    {
      "cell_type": "code",
      "source": [],
      "metadata": {
        "id": "cUI1fuw8tbSO"
      },
      "execution_count": null,
      "outputs": []
    },
    {
      "cell_type": "code",
      "source": [],
      "metadata": {
        "id": "mfqRuQBetbMr"
      },
      "execution_count": null,
      "outputs": []
    },
    {
      "cell_type": "code",
      "source": [],
      "metadata": {
        "id": "cmsfLUuEtbH0"
      },
      "execution_count": null,
      "outputs": []
    },
    {
      "cell_type": "code",
      "source": [],
      "metadata": {
        "id": "_iWLpKFwtbCY"
      },
      "execution_count": null,
      "outputs": []
    }
  ]
}