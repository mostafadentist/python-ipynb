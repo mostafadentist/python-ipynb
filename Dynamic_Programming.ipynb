{
  "nbformat": 4,
  "nbformat_minor": 0,
  "metadata": {
    "colab": {
      "provenance": [],
      "authorship_tag": "ABX9TyP5xCgPALbl6Ip0GYxWu2TE",
      "include_colab_link": true
    },
    "kernelspec": {
      "name": "python3",
      "display_name": "Python 3"
    },
    "language_info": {
      "name": "python"
    }
  },
  "cells": [
    {
      "cell_type": "markdown",
      "metadata": {
        "id": "view-in-github",
        "colab_type": "text"
      },
      "source": [
        "<a href=\"https://colab.research.google.com/github/mostafadentist/python-ipynb/blob/main/Dynamic_Programming.ipynb\" target=\"_parent\"><img src=\"https://colab.research.google.com/assets/colab-badge.svg\" alt=\"Open In Colab\"/></a>"
      ]
    },
    {
      "cell_type": "code",
      "source": [
        "import numpy as np\n",
        "\n",
        "graph = {\n",
        "    1: [(2, 2), (3, 5)],\n",
        "    2: [(4, 4), (5, 11)],\n",
        "    3: [(4, 2)],\n",
        "    4: [(5, 3)],\n",
        "    5: []\n",
        "}\n",
        "\n",
        "def shortest_path(graph, start, end):\n",
        "    costs = {node: float('inf') for node in graph}\n",
        "    costs[end] = 0\n",
        "    for node in reversed(list(graph.keys())):\n",
        "        for neighbor, weight in graph[node]:\n",
        "            costs[node] = min(costs[node], weight + costs[neighbor])\n",
        "    return costs[start]\n",
        "\n",
        "print(\"Shortest path cost from 1 to 5:\", shortest_path(graph, 1, 5))"
      ],
      "metadata": {
        "colab": {
          "base_uri": "https://localhost:8080/"
        },
        "id": "jeTg7sJ9uhH8",
        "outputId": "dbadd538-c2ae-4e94-d039-03439d8a3943"
      },
      "execution_count": 13,
      "outputs": [
        {
          "output_type": "stream",
          "name": "stdout",
          "text": [
            "Shortest path cost from 1 to 5: 9\n"
          ]
        }
      ]
    },
    {
      "cell_type": "code",
      "source": [
        "def knapsack(weights, values, W):\n",
        "    n = len(weights)\n",
        "    dp = [[0]*(W+1) for _ in range(n+1)]\n",
        "\n",
        "    for i in range(1, n+1):\n",
        "        for w in range(W+1):\n",
        "            if weights[i-1] <= w:\n",
        "                dp[i][w] = max(dp[i-1][w], values[i-1] + dp[i-1][w-weights[i-1]])\n",
        "            else:\n",
        "                dp[i][w] = dp[i-1][w]\n",
        "    return dp[n][W]\n",
        "\n",
        "weights = [2, 3, 4, 5]\n",
        "values = [3, 4, 5, 6]\n",
        "capacity = 5\n",
        "\n",
        "print(\"Optimal knapsack value =\", knapsack(weights, values, capacity))"
      ],
      "metadata": {
        "colab": {
          "base_uri": "https://localhost:8080/"
        },
        "id": "kDVFBrSNuhDS",
        "outputId": "2bd974eb-1991-4bcc-b8bc-ffc15cdb6e3b"
      },
      "execution_count": 14,
      "outputs": [
        {
          "output_type": "stream",
          "name": "stdout",
          "text": [
            "Optimal knapsack value = 7\n"
          ]
        }
      ]
    },
    {
      "cell_type": "code",
      "source": [
        "# Example: Allocate 5 units across 3 activities\n",
        "# Profit function for each activity\n",
        "profit = {\n",
        "    1: [0, 1, 2, 5, 6, 7],  # profit for allocating 0..5 units\n",
        "    2: [0, 0, 3, 4, 6, 8],\n",
        "    3: [0, 2, 3, 5, 7, 9]\n",
        "}\n",
        "\n",
        "def resource_allocation(resources, activities, profit):\n",
        "    dp = [[0]*(resources+1) for _ in range(activities+1)]\n",
        "\n",
        "    for i in range(1, activities+1):\n",
        "        for r in range(resources+1):\n",
        "            dp[i][r] = max(profit[i][k] + dp[i-1][r-k]\n",
        "                           for k in range(r+1))\n",
        "    return dp[activities][resources]\n",
        "\n",
        "print(\"Max profit with 5 resources =\", resource_allocation(5, 3, profit))"
      ],
      "metadata": {
        "colab": {
          "base_uri": "https://localhost:8080/"
        },
        "id": "gdj5_RNSug-U",
        "outputId": "6203f101-219a-4018-9c02-4854fc65a684"
      },
      "execution_count": 15,
      "outputs": [
        {
          "output_type": "stream",
          "name": "stdout",
          "text": [
            "Max profit with 5 resources = 9\n"
          ]
        }
      ]
    },
    {
      "cell_type": "code",
      "source": [
        "# Bellman equation: V(stage, state) = max{ reward + V(next stage) }\n",
        "\n",
        "def bellman_example(stages, states, reward):\n",
        "    V = {s: 0 for s in states}\n",
        "    for stage in range(stages, 0, -1):\n",
        "        newV = {}\n",
        "        for s in states:\n",
        "            newV[s] = max(reward(stage,s,a) + V[s] for a in [0,1])\n",
        "        V = newV\n",
        "    return V"
      ],
      "metadata": {
        "id": "aWLXn-H-vGDZ"
      },
      "execution_count": 16,
      "outputs": []
    },
    {
      "cell_type": "code",
      "source": [
        "D = [10, 20, 30]  # possible demands\n",
        "p = [0.2, 0.5, 0.3]  # probabilities\n",
        "price, cost, holding = 5, 2, 1\n",
        "\n",
        "def expected_profit(order_qty):\n",
        "    exp = 0\n",
        "    for d, prob in zip(D,p):\n",
        "        sales = min(order_qty,d)\n",
        "        leftover = max(0, order_qty-d)\n",
        "        exp += prob * (sales*price - order_qty*cost - leftover*holding)\n",
        "    return exp\n",
        "\n",
        "for q in range(0,40,5):\n",
        "    print(f\"Order {q} units → Expected Profit = {round(expected_profit(q),2)}\")"
      ],
      "metadata": {
        "colab": {
          "base_uri": "https://localhost:8080/"
        },
        "id": "oe5h93khvF-d",
        "outputId": "5deca91e-7115-42b3-fb07-aad60a90d03c"
      },
      "execution_count": 17,
      "outputs": [
        {
          "output_type": "stream",
          "name": "stdout",
          "text": [
            "Order 0 units → Expected Profit = 0.0\n",
            "Order 5 units → Expected Profit = 15.0\n",
            "Order 10 units → Expected Profit = 30.0\n",
            "Order 15 units → Expected Profit = 39.0\n",
            "Order 20 units → Expected Profit = 48.0\n",
            "Order 25 units → Expected Profit = 42.0\n",
            "Order 30 units → Expected Profit = 36.0\n",
            "Order 35 units → Expected Profit = 21.0\n"
          ]
        }
      ]
    },
    {
      "cell_type": "code",
      "source": [],
      "metadata": {
        "id": "2HllZ2epvF5k"
      },
      "execution_count": null,
      "outputs": []
    },
    {
      "cell_type": "code",
      "source": [],
      "metadata": {
        "id": "FmSvjEapvF02"
      },
      "execution_count": null,
      "outputs": []
    },
    {
      "cell_type": "code",
      "source": [],
      "metadata": {
        "id": "iLhRYPNUvFvy"
      },
      "execution_count": null,
      "outputs": []
    }
  ]
}