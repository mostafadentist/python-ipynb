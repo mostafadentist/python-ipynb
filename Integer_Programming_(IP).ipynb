{
  "nbformat": 4,
  "nbformat_minor": 0,
  "metadata": {
    "colab": {
      "provenance": [],
      "authorship_tag": "ABX9TyMX+EnTJsSYuoFR6zDhT8S1",
      "include_colab_link": true
    },
    "kernelspec": {
      "name": "python3",
      "display_name": "Python 3"
    },
    "language_info": {
      "name": "python"
    }
  },
  "cells": [
    {
      "cell_type": "markdown",
      "metadata": {
        "id": "view-in-github",
        "colab_type": "text"
      },
      "source": [
        "<a href=\"https://colab.research.google.com/github/mostafadentist/python-ipynb/blob/main/Integer_Programming_(IP).ipynb\" target=\"_parent\"><img src=\"https://colab.research.google.com/assets/colab-badge.svg\" alt=\"Open In Colab\"/></a>"
      ]
    },
    {
      "cell_type": "code",
      "source": [
        "!pip install pulp"
      ],
      "metadata": {
        "colab": {
          "base_uri": "https://localhost:8080/"
        },
        "id": "sBlhS-CWv_kb",
        "outputId": "f5561002-fe73-46f8-813f-c524d2a31e1a"
      },
      "execution_count": 25,
      "outputs": [
        {
          "output_type": "stream",
          "name": "stdout",
          "text": [
            "Collecting pulp\n",
            "  Downloading pulp-3.2.2-py3-none-any.whl.metadata (6.9 kB)\n",
            "Downloading pulp-3.2.2-py3-none-any.whl (16.4 MB)\n",
            "\u001b[2K   \u001b[90m━━━━━━━━━━━━━━━━━━━━━━━━━━━━━━━━━━━━━━━━\u001b[0m \u001b[32m16.4/16.4 MB\u001b[0m \u001b[31m90.9 MB/s\u001b[0m eta \u001b[36m0:00:00\u001b[0m\n",
            "\u001b[?25hInstalling collected packages: pulp\n",
            "Successfully installed pulp-3.2.2\n"
          ]
        }
      ]
    },
    {
      "cell_type": "code",
      "source": [
        "from pulp import *\n",
        "\n",
        "# Define model\n",
        "model = LpProblem(\"Pure_Integer_Program\", LpMaximize)\n",
        "\n",
        "x1 = LpVariable(\"x1\", lowBound=0, cat=\"Integer\")\n",
        "x2 = LpVariable(\"x2\", lowBound=0, cat=\"Integer\")\n",
        "\n",
        "# Objective\n",
        "model += 3*x1 + 2*x2\n",
        "\n",
        "# Constraints\n",
        "model += 2*x1 + x2 <= 10\n",
        "\n",
        "model.solve()\n",
        "print(\"x1 =\", x1.value())\n",
        "print(\"x2 =\", x2.value())\n",
        "print(\"Optimal Z =\", model.objective.value())"
      ],
      "metadata": {
        "colab": {
          "base_uri": "https://localhost:8080/"
        },
        "id": "06OSc2kCvdyT",
        "outputId": "721bcd98-e828-4516-fafa-904dd31bb034"
      },
      "execution_count": 26,
      "outputs": [
        {
          "output_type": "stream",
          "name": "stdout",
          "text": [
            "x1 = 0.0\n",
            "x2 = 10.0\n",
            "Optimal Z = 20.0\n"
          ]
        }
      ]
    },
    {
      "cell_type": "code",
      "source": [
        "projects = [\"P1\",\"P2\",\"P3\",\"P4\"]\n",
        "profits = [50, 60, 140, 40]\n",
        "costs = [100, 150, 200, 80]\n",
        "budget = 300\n",
        "\n",
        "model = LpProblem(\"Capital_Budgeting\", LpMaximize)\n",
        "\n",
        "x = LpVariable.dicts(\"x\", projects, cat=\"Binary\")\n",
        "\n",
        "# Objective\n",
        "model += lpSum([profits[i]*x[projects[i]] for i in range(len(projects))])\n",
        "\n",
        "# Constraint\n",
        "model += lpSum([costs[i]*x[projects[i]] for i in range(len(projects))]) <= budget\n",
        "\n",
        "model.solve()\n",
        "print(\"Selected Projects:\")\n",
        "for p in projects:\n",
        "    if x[p].value() == 1:\n",
        "        print(p)\n",
        "print(\"Max Profit =\", model.objective.value())"
      ],
      "metadata": {
        "colab": {
          "base_uri": "https://localhost:8080/"
        },
        "id": "cQQZo5PLvds1",
        "outputId": "4e240184-07fd-4efd-9409-2bbf1e492d3a"
      },
      "execution_count": 27,
      "outputs": [
        {
          "output_type": "stream",
          "name": "stdout",
          "text": [
            "Selected Projects:\n",
            "P1\n",
            "P3\n",
            "Max Profit = 190.0\n"
          ]
        }
      ]
    },
    {
      "cell_type": "code",
      "source": [
        "weights = [2, 3, 4, 5]\n",
        "values = [3, 4, 5, 6]\n",
        "capacity = 5\n",
        "\n",
        "model = LpProblem(\"Knapsack\", LpMaximize)\n",
        "\n",
        "x = [LpVariable(f\"x{i}\", cat=\"Binary\") for i in range(len(weights))]\n",
        "\n",
        "# Objective\n",
        "model += lpSum(values[i]*x[i] for i in range(len(weights)))\n",
        "\n",
        "# Constraint\n",
        "model += lpSum(weights[i]*x[i] for i in range(len(weights))) <= capacity\n",
        "\n",
        "model.solve()\n",
        "print(\"Selected items:\", [i for i in range(len(x)) if x[i].value()==1])\n",
        "print(\"Optimal Value =\", model.objective.value())"
      ],
      "metadata": {
        "colab": {
          "base_uri": "https://localhost:8080/"
        },
        "id": "HjFQAapLwDLs",
        "outputId": "851a57e0-33e7-484e-d532-1a00a5559910"
      },
      "execution_count": 28,
      "outputs": [
        {
          "output_type": "stream",
          "name": "stdout",
          "text": [
            "Selected items: [0, 1]\n",
            "Optimal Value = 7.0\n"
          ]
        }
      ]
    },
    {
      "cell_type": "code",
      "source": [
        "facilities = [\"F1\",\"F2\"]\n",
        "customers = [\"C1\",\"C2\",\"C3\"]\n",
        "cost = {\"F1\":100, \"F2\":120}\n",
        "serve = {(\"F1\",\"C1\"):4, (\"F1\",\"C2\"):6, (\"F1\",\"C3\"):8,\n",
        "         (\"F2\",\"C1\"):5, (\"F2\",\"C2\"):4, (\"F2\",\"C3\"):3}\n",
        "\n",
        "model = LpProblem(\"Facility_Location\", LpMinimize)\n",
        "\n",
        "y = LpVariable.dicts(\"Open\", facilities, cat=\"Binary\")\n",
        "x = LpVariable.dicts(\"Serve\", (facilities, customers), cat=\"Binary\")\n",
        "\n",
        "# Objective: open cost + service cost\n",
        "model += lpSum(cost[f]*y[f] for f in facilities) + lpSum(serve[f,c]*x[f][c] for f in facilities for c in customers)\n",
        "\n",
        "# Each customer must be served by exactly one facility\n",
        "for c in customers:\n",
        "    model += lpSum(x[f][c] for f in facilities) == 1\n",
        "\n",
        "# Cannot serve if facility not open\n",
        "for f in facilities:\n",
        "    for c in customers:\n",
        "        model += x[f][c] <= y[f]\n",
        "\n",
        "model.solve()\n",
        "print(\"Open Facilities:\", [f for f in facilities if y[f].value()==1])"
      ],
      "metadata": {
        "colab": {
          "base_uri": "https://localhost:8080/"
        },
        "id": "b-kfuhedvdnq",
        "outputId": "2f6aca82-d2b5-46a8-be4a-13194629e6f3"
      },
      "execution_count": 29,
      "outputs": [
        {
          "output_type": "stream",
          "name": "stdout",
          "text": [
            "Open Facilities: ['F1']\n"
          ]
        }
      ]
    },
    {
      "cell_type": "code",
      "source": [],
      "metadata": {
        "id": "DxzdI4DZvdiX"
      },
      "execution_count": null,
      "outputs": []
    },
    {
      "cell_type": "code",
      "source": [],
      "metadata": {
        "id": "AZ48L_PWvddS"
      },
      "execution_count": null,
      "outputs": []
    },
    {
      "cell_type": "code",
      "source": [],
      "metadata": {
        "id": "LvprRiUnvdYj"
      },
      "execution_count": null,
      "outputs": []
    },
    {
      "cell_type": "code",
      "source": [],
      "metadata": {
        "id": "fvzvBA9uvdTi"
      },
      "execution_count": null,
      "outputs": []
    },
    {
      "cell_type": "code",
      "source": [],
      "metadata": {
        "id": "ccBIEEfrvdOk"
      },
      "execution_count": null,
      "outputs": []
    }
  ]
}