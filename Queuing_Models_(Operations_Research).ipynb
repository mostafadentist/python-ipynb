{
  "nbformat": 4,
  "nbformat_minor": 0,
  "metadata": {
    "colab": {
      "provenance": [],
      "authorship_tag": "ABX9TyNmZ7Bdv+nfLU85/TSc0+PB",
      "include_colab_link": true
    },
    "kernelspec": {
      "name": "python3",
      "display_name": "Python 3"
    },
    "language_info": {
      "name": "python"
    }
  },
  "cells": [
    {
      "cell_type": "markdown",
      "metadata": {
        "id": "view-in-github",
        "colab_type": "text"
      },
      "source": [
        "<a href=\"https://colab.research.google.com/github/mostafadentist/python-ipynb/blob/main/Queuing_Models_(Operations_Research).ipynb\" target=\"_parent\"><img src=\"https://colab.research.google.com/assets/colab-badge.svg\" alt=\"Open In Colab\"/></a>"
      ]
    },
    {
      "cell_type": "code",
      "execution_count": 1,
      "metadata": {
        "colab": {
          "base_uri": "https://localhost:8080/"
        },
        "id": "tRozuhwFqd0q",
        "outputId": "f418f714-1095-4b77-96e7-91c23a6cc8d7"
      },
      "outputs": [
        {
          "output_type": "stream",
          "name": "stdout",
          "text": [
            "{'Utilization (ρ)': 0.667, 'Avg number in system (L)': 2.0, 'Avg number in queue (Lq)': 1.333, 'Avg time in system (W)': 1.0, 'Avg waiting time in queue (Wq)': 0.667}\n"
          ]
        }
      ],
      "source": [
        "# M/M/1 Queue Performance Measures\n",
        "def mm1_queue(lmbda, mu):\n",
        "    rho = lmbda / mu\n",
        "    if rho >= 1:\n",
        "        return \"System is unstable (λ ≥ μ).\"\n",
        "\n",
        "    L = rho / (1 - rho)       # Avg number in system\n",
        "    Lq = (rho**2) / (1 - rho) # Avg number in queue\n",
        "    W = 1 / (mu - lmbda)      # Avg time in system\n",
        "    Wq = rho / (mu - lmbda)   # Avg waiting time in queue\n",
        "\n",
        "    return {\n",
        "        \"Utilization (ρ)\": round(rho, 3),\n",
        "        \"Avg number in system (L)\": round(L, 3),\n",
        "        \"Avg number in queue (Lq)\": round(Lq, 3),\n",
        "        \"Avg time in system (W)\": round(W, 3),\n",
        "        \"Avg waiting time in queue (Wq)\": round(Wq, 3),\n",
        "    }\n",
        "\n",
        "# Example: λ = 2 per minute, μ = 3 per minute\n",
        "results = mm1_queue(2, 3)\n",
        "print(results)"
      ]
    },
    {
      "cell_type": "code",
      "source": [
        "import math\n",
        "\n",
        "def mmc_queue(lmbda, mu, c):\n",
        "    rho = lmbda / (c * mu)\n",
        "    if rho >= 1:\n",
        "        return \"System is unstable (λ ≥ cμ).\"\n",
        "\n",
        "    # Probability of zero customers (P0)\n",
        "    sum_terms = sum((lmbda/mu)**n / math.factorial(n) for n in range(c))\n",
        "    last_term = ((lmbda/mu)**c / (math.factorial(c) * (1 - rho)))\n",
        "    P0 = 1 / (sum_terms + last_term)\n",
        "\n",
        "    # Average number in queue (Lq)\n",
        "    Lq = (P0 * (lmbda/mu)**c * rho) / (math.factorial(c) * (1 - rho)**2)\n",
        "\n",
        "    # Other measures\n",
        "    L = Lq + lmbda/mu\n",
        "    Wq = Lq / lmbda\n",
        "    W = Wq + 1/mu\n",
        "\n",
        "    return {\n",
        "        \"Utilization (ρ)\": round(rho, 3),\n",
        "        \"P0 (no customers)\": round(P0, 3),\n",
        "        \"Avg number in system (L)\": round(L, 3),\n",
        "        \"Avg number in queue (Lq)\": round(Lq, 3),\n",
        "        \"Avg time in system (W)\": round(W, 3),\n",
        "        \"Avg waiting time in queue (Wq)\": round(Wq, 3),\n",
        "    }\n",
        "\n",
        "# Example: λ = 4 per min, μ = 3 per min, c = 2 servers\n",
        "print(mmc_queue(4, 3, 2))"
      ],
      "metadata": {
        "colab": {
          "base_uri": "https://localhost:8080/"
        },
        "id": "egawFC7LqgZO",
        "outputId": "dccf1b14-ae1c-423c-cf12-83bf201b6ba3"
      },
      "execution_count": 2,
      "outputs": [
        {
          "output_type": "stream",
          "name": "stdout",
          "text": [
            "{'Utilization (ρ)': 0.667, 'P0 (no customers)': 0.2, 'Avg number in system (L)': 2.4, 'Avg number in queue (Lq)': 1.067, 'Avg time in system (W)': 0.6, 'Avg waiting time in queue (Wq)': 0.267}\n"
          ]
        }
      ]
    },
    {
      "cell_type": "code",
      "source": [
        "# Verify that L = λ * W\n",
        "lmbda, mu = 2, 3\n",
        "res = mm1_queue(lmbda, mu)\n",
        "\n",
        "L = res[\"Avg number in system (L)\"]\n",
        "W = res[\"Avg time in system (W)\"]\n",
        "\n",
        "print(\"L =\", L, \", λW =\", round(lmbda * W, 3))"
      ],
      "metadata": {
        "colab": {
          "base_uri": "https://localhost:8080/"
        },
        "id": "bkwsli4MqgUs",
        "outputId": "c636b31b-3ba2-45e9-ef9a-a6de02943452"
      },
      "execution_count": 3,
      "outputs": [
        {
          "output_type": "stream",
          "name": "stdout",
          "text": [
            "L = 2.0 , λW = 2.0\n"
          ]
        }
      ]
    },
    {
      "cell_type": "code",
      "source": [
        "import random\n",
        "import matplotlib.pyplot as plt\n",
        "\n",
        "def simulate_mm1(lmbda, mu, num_customers=1000):\n",
        "    arrival_times = [0]\n",
        "    for i in range(1, num_customers):\n",
        "        interarrival = random.expovariate(lmbda)  # exponential arrivals\n",
        "        arrival_times.append(arrival_times[-1] + interarrival)\n",
        "\n",
        "    service_times = [random.expovariate(mu) for _ in range(num_customers)]\n",
        "    start_times, finish_times, wait_times = [], [], []\n",
        "\n",
        "    current_time = 0\n",
        "    for i in range(num_customers):\n",
        "        start = max(arrival_times[i], current_time)\n",
        "        finish = start + service_times[i]\n",
        "        wait = start - arrival_times[i]\n",
        "\n",
        "        start_times.append(start)\n",
        "        finish_times.append(finish)\n",
        "        wait_times.append(wait)\n",
        "\n",
        "        current_time = finish\n",
        "\n",
        "    avg_wait = sum(wait_times) / num_customers\n",
        "    return avg_wait, wait_times\n",
        "\n",
        "# Example simulation\n",
        "avg_wait, waits = simulate_mm1(2, 3)\n",
        "print(\"Simulated average wait time:\", round(avg_wait, 3))\n",
        "\n",
        "plt.hist(waits, bins=30, color='skyblue')\n",
        "plt.title(\"Distribution of Waiting Times (M/M/1)\")\n",
        "plt.xlabel(\"Wait time\")\n",
        "plt.ylabel(\"Frequency\")\n",
        "plt.show()"
      ],
      "metadata": {
        "colab": {
          "base_uri": "https://localhost:8080/",
          "height": 491
        },
        "id": "5Ft5h5xPqgQF",
        "outputId": "2486dbfa-ca4b-4bbe-e83a-c4e81da38e14"
      },
      "execution_count": 4,
      "outputs": [
        {
          "output_type": "stream",
          "name": "stdout",
          "text": [
            "Simulated average wait time: 0.503\n"
          ]
        },
        {
          "output_type": "display_data",
          "data": {
            "text/plain": [
              "<Figure size 640x480 with 1 Axes>"
            ],
            "image/png": "[encoded data removed]"
          },
          "metadata": {}
        }
      ]
    },
    {
      "cell_type": "code",
      "source": [],
      "metadata": {
        "id": "wr2syOtUqgJw"
      },
      "execution_count": null,
      "outputs": []
    },
    {
      "cell_type": "code",
      "source": [],
      "metadata": {
        "id": "NNNQzUUzqgDo"
      },
      "execution_count": null,
      "outputs": []
    },
    {
      "cell_type": "code",
      "source": [],
      "metadata": {
        "id": "KSwiHh6Bqf-n"
      },
      "execution_count": null,
      "outputs": []
    },
    {
      "cell_type": "code",
      "source": [],
      "metadata": {
        "id": "jcTUx8ahqf5i"
      },
      "execution_count": null,
      "outputs": []
    },
    {
      "cell_type": "code",
      "source": [],
      "metadata": {
        "id": "M-P-2llOqf0w"
      },
      "execution_count": null,
      "outputs": []
    },
    {
      "cell_type": "code",
      "source": [],
      "metadata": {
        "id": "6daixg0KqfwN"
      },
      "execution_count": null,
      "outputs": []
    },
    {
      "cell_type": "code",
      "source": [],
      "metadata": {
        "id": "v9BzHFvpqfrf"
      },
      "execution_count": null,
      "outputs": []
    },
    {
      "cell_type": "code",
      "source": [],
      "metadata": {
        "id": "aVbq522Lqfmq"
      },
      "execution_count": null,
      "outputs": []
    },
    {
      "cell_type": "code",
      "source": [],
      "metadata": {
        "id": "IQPNEn2Hqfhg"
      },
      "execution_count": null,
      "outputs": []
    },
    {
      "cell_type": "code",
      "source": [],
      "metadata": {
        "id": "1rrt6ldAqfdK"
      },
      "execution_count": null,
      "outputs": []
    },
    {
      "cell_type": "code",
      "source": [],
      "metadata": {
        "id": "Q9VGTjJpqfYu"
      },
      "execution_count": null,
      "outputs": []
    },
    {
      "cell_type": "code",
      "source": [],
      "metadata": {
        "id": "qmA1dou3qfUT"
      },
      "execution_count": null,
      "outputs": []
    },
    {
      "cell_type": "code",
      "source": [],
      "metadata": {
        "id": "FgUFY_ICqfPu"
      },
      "execution_count": null,
      "outputs": []
    },
    {
      "cell_type": "code",
      "source": [],
      "metadata": {
        "id": "D7B3VkqSqfLJ"
      },
      "execution_count": null,
      "outputs": []
    },
    {
      "cell_type": "code",
      "source": [],
      "metadata": {
        "id": "u6as6ac2qfGj"
      },
      "execution_count": null,
      "outputs": []
    },
    {
      "cell_type": "code",
      "source": [],
      "metadata": {
        "id": "TbSfAfEfqfAv"
      },
      "execution_count": null,
      "outputs": []
    }
  ]
}