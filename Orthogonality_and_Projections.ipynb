{
  "nbformat": 4,
  "nbformat_minor": 0,
  "metadata": {
    "colab": {
      "provenance": [],
      "authorship_tag": "ABX9TyOxXG3v76MxWg2RIrg/Dumj",
      "include_colab_link": true
    },
    "kernelspec": {
      "name": "python3",
      "display_name": "Python 3"
    },
    "language_info": {
      "name": "python"
    }
  },
  "cells": [
    {
      "cell_type": "markdown",
      "metadata": {
        "id": "view-in-github",
        "colab_type": "text"
      },
      "source": [
        "<a href=\"https://colab.research.google.com/github/mostafadentist/python-ipynb/blob/main/Orthogonality_and_Projections.ipynb\" target=\"_parent\"><img src=\"https://colab.research.google.com/assets/colab-badge.svg\" alt=\"Open In Colab\"/></a>"
      ]
    },
    {
      "cell_type": "code",
      "execution_count": 1,
      "metadata": {
        "colab": {
          "base_uri": "https://localhost:8080/"
        },
        "id": "LG8lc8QJpsYd",
        "outputId": "07b4f875-51df-47b6-a65d-7f5c9bffaed2"
      },
      "outputs": [
        {
          "output_type": "stream",
          "name": "stdout",
          "text": [
            "u · v = 0\n",
            "u and v are orthogonal\n"
          ]
        }
      ],
      "source": [
        "import numpy as np\n",
        "\n",
        "u = np.array([1, 2])\n",
        "v = np.array([-2, 1])\n",
        "\n",
        "dot = np.dot(u, v)\n",
        "print(\"u · v =\", dot)\n",
        "\n",
        "if dot == 0:\n",
        "    print(\"u and v are orthogonal\")\n",
        "else:\n",
        "    print(\"u and v are not orthogonal\")"
      ]
    },
    {
      "cell_type": "code",
      "source": [
        "u = np.array([1, 0])\n",
        "v = np.array([0, 1])\n",
        "\n",
        "print(\"u · v =\", np.dot(u, v))\n",
        "print(\"Norm of u =\", np.linalg.norm(u))\n",
        "print(\"Norm of v =\", np.linalg.norm(v))"
      ],
      "metadata": {
        "colab": {
          "base_uri": "https://localhost:8080/"
        },
        "id": "aMa4Oomcpv3z",
        "outputId": "5ae0543a-d39d-4998-fe50-bb46c99beca1"
      },
      "execution_count": 2,
      "outputs": [
        {
          "output_type": "stream",
          "name": "stdout",
          "text": [
            "u · v = 0\n",
            "Norm of u = 1.0\n",
            "Norm of v = 1.0\n"
          ]
        }
      ]
    },
    {
      "cell_type": "code",
      "source": [
        "a = np.array([3, 4])\n",
        "b = np.array([1, 2])\n",
        "\n",
        "# Projection of a onto b\n",
        "proj_ab = (np.dot(a, b) / np.dot(b, b)) * b\n",
        "print(\"Projection of a onto b =\", proj_ab)"
      ],
      "metadata": {
        "colab": {
          "base_uri": "https://localhost:8080/"
        },
        "id": "92mimcqzpvwT",
        "outputId": "6f640d25-f5c5-429a-d083-aeeb33ca1b37"
      },
      "execution_count": 3,
      "outputs": [
        {
          "output_type": "stream",
          "name": "stdout",
          "text": [
            "Projection of a onto b = [2.2 4.4]\n"
          ]
        }
      ]
    },
    {
      "cell_type": "code",
      "source": [
        "import matplotlib.pyplot as plt\n",
        "\n",
        "a = np.array([3, 4])\n",
        "b = np.array([1, 2])\n",
        "\n",
        "proj_ab = (np.dot(a, b) / np.dot(b, b)) * b\n",
        "\n",
        "plt.figure(figsize=(6,6))\n",
        "plt.axhline(0, color='gray')\n",
        "plt.axvline(0, color='gray')\n",
        "\n",
        "plt.quiver(0,0,a[0],a[1],angles='xy',scale_units='xy',scale=1,color='r',label='a')\n",
        "plt.quiver(0,0,b[0],b[1],angles='xy',scale_units='xy',scale=1,color='b',label='b')\n",
        "plt.quiver(0,0,proj_ab[0],proj_ab[1],angles='xy',scale_units='xy',scale=1,color='g',label='proj_a_on_b')\n",
        "\n",
        "plt.xlim(-1,5)\n",
        "plt.ylim(-1,5)\n",
        "plt.legend()\n",
        "plt.title(\"Projection of a onto b\")\n",
        "plt.grid(True)\n",
        "plt.show()"
      ],
      "metadata": {
        "colab": {
          "base_uri": "https://localhost:8080/",
          "height": 545
        },
        "id": "lrT7Epwnpvpk",
        "outputId": "8f6492a0-07f9-4878-9539-fb819be60c89"
      },
      "execution_count": 4,
      "outputs": [
        {
          "output_type": "display_data",
          "data": {
            "text/plain": [
              "<Figure size 600x600 with 1 Axes>"
            ],
            "image/png": "[encoded data removed]"
          },
          "metadata": {}
        }
      ]
    },
    {
      "cell_type": "code",
      "source": [
        "# Project y onto span{u1, u2}\n",
        "U = np.array([[1, 0],\n",
        "              [0, 1],\n",
        "              [1, 1]])  # basis vectors stacked in columns\n",
        "\n",
        "y = np.array([2, 1, 3])\n",
        "\n",
        "# Projection matrix: P = U (U^T U)^(-1) U^T\n",
        "P = U @ np.linalg.inv(U.T @ U) @ U.T\n",
        "proj_y = P @ y\n",
        "\n",
        "print(\"Projection of y onto span(U):\", proj_y)"
      ],
      "metadata": {
        "colab": {
          "base_uri": "https://localhost:8080/"
        },
        "id": "ItUtQ5xfpvjg",
        "outputId": "5224e2b0-0d4a-442d-e738-dcd0e603d72c"
      },
      "execution_count": 5,
      "outputs": [
        {
          "output_type": "stream",
          "name": "stdout",
          "text": [
            "Projection of y onto span(U): [2. 1. 3.]\n"
          ]
        }
      ]
    },
    {
      "cell_type": "code",
      "source": [
        "def gram_schmidt(V):\n",
        "    U = []\n",
        "    for v in V:\n",
        "        u = v.copy()\n",
        "        for u_prev in U:\n",
        "            u -= np.dot(u, u_prev) / np.dot(u_prev, u_prev) * u_prev\n",
        "        U.append(u)\n",
        "    return np.array(U)\n",
        "\n",
        "V = np.array([[1,1,0], [1,0,1], [0,1,1]], dtype=float)\n",
        "U = gram_schmidt(V)\n",
        "\n",
        "print(\"Original vectors:\\n\", V)\n",
        "print(\"Orthogonalized vectors:\\n\", U)"
      ],
      "metadata": {
        "colab": {
          "base_uri": "https://localhost:8080/"
        },
        "id": "zHmiLxwGpveJ",
        "outputId": "bd0e010b-4846-43c4-8bae-fa206f549d9e"
      },
      "execution_count": 6,
      "outputs": [
        {
          "output_type": "stream",
          "name": "stdout",
          "text": [
            "Original vectors:\n",
            " [[1. 1. 0.]\n",
            " [1. 0. 1.]\n",
            " [0. 1. 1.]]\n",
            "Orthogonalized vectors:\n",
            " [[ 1.          1.          0.        ]\n",
            " [ 0.5        -0.5         1.        ]\n",
            " [-0.66666667  0.66666667  0.66666667]]\n"
          ]
        }
      ]
    },
    {
      "cell_type": "code",
      "source": [
        "# Overdetermined system: Ax ≈ b\n",
        "A = np.array([[1,1],\n",
        "              [1,2],\n",
        "              [1,3]])\n",
        "b = np.array([1,2,2])\n",
        "\n",
        "# Least squares solution: x = (A^T A)^(-1) A^T b\n",
        "x_ls = np.linalg.inv(A.T @ A) @ A.T @ b\n",
        "\n",
        "print(\"Least squares solution:\", x_ls)"
      ],
      "metadata": {
        "colab": {
          "base_uri": "https://localhost:8080/"
        },
        "id": "js5GbNJQpvZM",
        "outputId": "5414f5cf-94c2-4a98-e0d3-a7ae3d4c713d"
      },
      "execution_count": 7,
      "outputs": [
        {
          "output_type": "stream",
          "name": "stdout",
          "text": [
            "Least squares solution: [0.66666667 0.5       ]\n"
          ]
        }
      ]
    },
    {
      "cell_type": "code",
      "source": [],
      "metadata": {
        "id": "Xz9gzrbipvUQ"
      },
      "execution_count": null,
      "outputs": []
    },
    {
      "cell_type": "code",
      "source": [],
      "metadata": {
        "id": "xr5ujwFZpvPH"
      },
      "execution_count": null,
      "outputs": []
    },
    {
      "cell_type": "code",
      "source": [],
      "metadata": {
        "id": "BmpCmoGdpvJe"
      },
      "execution_count": null,
      "outputs": []
    }
  ]
}