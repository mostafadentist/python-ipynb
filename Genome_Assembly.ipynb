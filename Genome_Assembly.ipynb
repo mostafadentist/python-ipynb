{
  "nbformat": 4,
  "nbformat_minor": 0,
  "metadata": {
    "colab": {
      "provenance": [],
      "authorship_tag": "ABX9TyNYjRClkNiqzuboEXOvbyRE",
      "include_colab_link": true
    },
    "kernelspec": {
      "name": "python3",
      "display_name": "Python 3"
    },
    "language_info": {
      "name": "python"
    }
  },
  "cells": [
    {
      "cell_type": "markdown",
      "metadata": {
        "id": "view-in-github",
        "colab_type": "text"
      },
      "source": [
        "<a href=\"https://colab.research.google.com/github/mostafadentist/python-ipynb/blob/main/Genome_Assembly.ipynb\" target=\"_parent\"><img src=\"https://colab.research.google.com/assets/colab-badge.svg\" alt=\"Open In Colab\"/></a>"
      ]
    },
    {
      "cell_type": "code",
      "source": [
        "def kmers(seq, k):\n",
        "    return [seq[i:i+k] for i in range(len(seq)-k+1)]\n",
        "\n",
        "seq = \"ATGCGATGACCTGACT\"\n",
        "print(\"Example k-mers:\", kmers(seq, 4))"
      ],
      "metadata": {
        "colab": {
          "base_uri": "https://localhost:8080/"
        },
        "id": "dFg_4v4g1wpO",
        "outputId": "6b307626-7d90-482d-ad91-1409df87f12c"
      },
      "execution_count": 84,
      "outputs": [
        {
          "output_type": "stream",
          "name": "stdout",
          "text": [
            "Example k-mers: ['ATGC', 'TGCG', 'GCGA', 'CGAT', 'GATG', 'ATGA', 'TGAC', 'GACC', 'ACCT', 'CCTG', 'CTGA', 'TGAC', 'GACT']\n"
          ]
        }
      ]
    },
    {
      "cell_type": "code",
      "source": [
        "from collections import defaultdict\n",
        "\n",
        "def build_debruijn(reads, k):\n",
        "    graph = defaultdict(list)\n",
        "    for read in reads:\n",
        "        for kmer in kmers(read, k):\n",
        "            prefix = kmer[:-1]\n",
        "            suffix = kmer[1:]\n",
        "            graph[prefix].append(suffix)\n",
        "    return graph\n",
        "\n",
        "reads = [\"ATGCG\", \"TGCGT\", \"GCGTT\", \"CGTTA\", \"GTTAC\"]\n",
        "dbg = build_debruijn(reads, 4)\n",
        "print(\"De Bruijn Graph:\")\n",
        "for node, edges in dbg.items():\n",
        "    print(node, \"->\", edges)"
      ],
      "metadata": {
        "colab": {
          "base_uri": "https://localhost:8080/"
        },
        "id": "GDoiIMZd1wva",
        "outputId": "aa0c6e9a-8343-4de9-e758-54768fb2002a"
      },
      "execution_count": 85,
      "outputs": [
        {
          "output_type": "stream",
          "name": "stdout",
          "text": [
            "De Bruijn Graph:\n",
            "ATG -> ['TGC']\n",
            "TGC -> ['GCG', 'GCG']\n",
            "GCG -> ['CGT', 'CGT']\n",
            "CGT -> ['GTT', 'GTT']\n",
            "GTT -> ['TTA', 'TTA']\n",
            "TTA -> ['TAC']\n"
          ]
        }
      ]
    },
    {
      "cell_type": "code",
      "source": [
        "def eulerian_path(graph):\n",
        "    # Hierholzer’s algorithm\n",
        "    graph_copy = {u: edges[:] for u, edges in graph.items()}\n",
        "    start = next(iter(graph_copy))\n",
        "    path, stack = [], [start]\n",
        "\n",
        "    while stack:\n",
        "        u = stack[-1]\n",
        "        if graph_copy.get(u):\n",
        "            v = graph_copy[u].pop()\n",
        "            stack.append(v)\n",
        "        else:\n",
        "            path.append(stack.pop())\n",
        "    return path[::-1]\n",
        "\n",
        "path = eulerian_path(dbg)\n",
        "print(\"Eulerian Path:\", path)"
      ],
      "metadata": {
        "colab": {
          "base_uri": "https://localhost:8080/"
        },
        "id": "SEh61UVe1w0J",
        "outputId": "6ffe299b-424f-4dd3-db13-f4d21b8fbdc8"
      },
      "execution_count": 86,
      "outputs": [
        {
          "output_type": "stream",
          "name": "stdout",
          "text": [
            "Eulerian Path: ['ATG', 'TGC', 'GCG', 'GCG', 'CGT', 'CGT', 'GTT', 'GTT', 'TTA', 'TTA', 'TAC']\n"
          ]
        }
      ]
    },
    {
      "cell_type": "code",
      "source": [
        "def path_to_genome(path):\n",
        "    genome = path[0]\n",
        "    for node in path[1:]:\n",
        "        genome += node[-1]\n",
        "    return genome\n",
        "\n",
        "genome = path_to_genome(path)\n",
        "print(\"Reconstructed Genome:\", genome)"
      ],
      "metadata": {
        "colab": {
          "base_uri": "https://localhost:8080/"
        },
        "id": "VgaCY9Sq1w69",
        "outputId": "b810219e-17e9-4d66-e3ec-11d3488dfc2f"
      },
      "execution_count": 87,
      "outputs": [
        {
          "output_type": "stream",
          "name": "stdout",
          "text": [
            "Reconstructed Genome: ATGCGGTTTTAAC\n"
          ]
        }
      ]
    },
    {
      "cell_type": "code",
      "source": [
        "def overlap(a, b, min_length=3):\n",
        "    start = 0\n",
        "    while True:\n",
        "        start = a.find(b[:min_length], start)\n",
        "        if start == -1:\n",
        "            return 0\n",
        "        if b.startswith(a[start:]):\n",
        "            return len(a)-start\n",
        "        start += 1\n",
        "\n",
        "reads = [\"ATTAC\", \"TACAG\", \"CAGAT\", \"AGATT\"]\n",
        "for a in reads:\n",
        "    for b in reads:\n",
        "        if a != b:\n",
        "            print(a, \"->\", b, \":\", overlap(a,b))"
      ],
      "metadata": {
        "colab": {
          "base_uri": "https://localhost:8080/"
        },
        "id": "NkL62orG1xBJ",
        "outputId": "ca82e6ce-4e55-4dcd-94cd-c9bbb91e639f"
      },
      "execution_count": 88,
      "outputs": [
        {
          "output_type": "stream",
          "name": "stdout",
          "text": [
            "ATTAC -> TACAG : 3\n",
            "ATTAC -> CAGAT : 0\n",
            "ATTAC -> AGATT : 0\n",
            "TACAG -> ATTAC : 0\n",
            "TACAG -> CAGAT : 3\n",
            "TACAG -> AGATT : 0\n",
            "CAGAT -> ATTAC : 0\n",
            "CAGAT -> TACAG : 0\n",
            "CAGAT -> AGATT : 4\n",
            "AGATT -> ATTAC : 3\n",
            "AGATT -> TACAG : 0\n",
            "AGATT -> CAGAT : 0\n"
          ]
        }
      ]
    },
    {
      "cell_type": "code",
      "source": [
        "reads = [\"ATGCG\", \"TGCGT\", \"GCGTT\", \"CGTTA\", \"GTTAC\"]\n",
        "dbg = build_debruijn(reads, 4)\n",
        "path = eulerian_path(dbg)\n",
        "genome = path_to_genome(path)\n",
        "print(\"Final Assembled Genome:\", genome)"
      ],
      "metadata": {
        "colab": {
          "base_uri": "https://localhost:8080/"
        },
        "id": "pq5zcyVv1xF9",
        "outputId": "8adcca90-1e03-4cc6-f5b5-31ebd35d949d"
      },
      "execution_count": 89,
      "outputs": [
        {
          "output_type": "stream",
          "name": "stdout",
          "text": [
            "Final Assembled Genome: ATGCGGTTTTAAC\n"
          ]
        }
      ]
    },
    {
      "cell_type": "code",
      "source": [
        "import networkx as nx\n",
        "import matplotlib.pyplot as plt\n",
        "\n",
        "G = nx.DiGraph()\n",
        "for u, edges in dbg.items():\n",
        "    for v in edges:\n",
        "        G.add_edge(u, v)\n",
        "\n",
        "plt.figure(figsize=(8,5))\n",
        "nx.draw(G, with_labels=True, node_size=2000, node_color=\"lightblue\", arrows=True)\n",
        "plt.title(\"De Bruijn Graph for Genome Assembly\")\n",
        "plt.show()"
      ],
      "metadata": {
        "colab": {
          "base_uri": "https://localhost:8080/",
          "height": 559
        },
        "id": "BjDS1lLx1xMt",
        "outputId": "537874c8-e172-4c39-fbef-426a91802efc"
      },
      "execution_count": 90,
      "outputs": [
        {
          "output_type": "display_data",
          "data": {
            "text/plain": [
              "<Figure size 800x500 with 1 Axes>"
            ],
            "image/png": "[encoded data removed]"
          },
          "metadata": {}
        }
      ]
    },
    {
      "cell_type": "code",
      "source": [],
      "metadata": {
        "id": "UnIgGg7v1xWt"
      },
      "execution_count": null,
      "outputs": []
    }
  ]
}