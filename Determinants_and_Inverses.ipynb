{
  "nbformat": 4,
  "nbformat_minor": 0,
  "metadata": {
    "colab": {
      "provenance": [],
      "authorship_tag": "ABX9TyNWdsLpbY43w8X1N61EKx/9",
      "include_colab_link": true
    },
    "kernelspec": {
      "name": "python3",
      "display_name": "Python 3"
    },
    "language_info": {
      "name": "python"
    }
  },
  "cells": [
    {
      "cell_type": "markdown",
      "metadata": {
        "id": "view-in-github",
        "colab_type": "text"
      },
      "source": [
        "<a href=\"https://colab.research.google.com/github/mostafadentist/python-ipynb/blob/main/Determinants_and_Inverses.ipynb\" target=\"_parent\"><img src=\"https://colab.research.google.com/assets/colab-badge.svg\" alt=\"Open In Colab\"/></a>"
      ]
    },
    {
      "cell_type": "code",
      "execution_count": 1,
      "metadata": {
        "colab": {
          "base_uri": "https://localhost:8080/"
        },
        "id": "0YyciBJwoYjU",
        "outputId": "12c5e928-305b-4dd6-9cb4-aa7cdcd673fc"
      },
      "outputs": [
        {
          "output_type": "stream",
          "name": "stdout",
          "text": [
            "Matrix A:\n",
            " [[2 3]\n",
            " [1 4]]\n",
            "Determinant of A = 5.000000000000001\n"
          ]
        }
      ],
      "source": [
        "import numpy as np\n",
        "\n",
        "A = np.array([[2, 3],\n",
        "              [1, 4]])\n",
        "\n",
        "det_A = np.linalg.det(A)\n",
        "print(\"Matrix A:\\n\", A)\n",
        "print(\"Determinant of A =\", det_A)"
      ]
    },
    {
      "cell_type": "code",
      "source": [
        "B = np.array([[1, 2, 3],\n",
        "              [0, 4, 5],\n",
        "              [1, 0, 6]])\n",
        "\n",
        "det_B = np.linalg.det(B)\n",
        "print(\"Matrix B:\\n\", B)\n",
        "print(\"Determinant of B =\", det_B)"
      ],
      "metadata": {
        "colab": {
          "base_uri": "https://localhost:8080/"
        },
        "id": "w_1jkiBEob8L",
        "outputId": "1bc8add4-9b86-4f1d-a6e1-58da2e0b7bcb"
      },
      "execution_count": 2,
      "outputs": [
        {
          "output_type": "stream",
          "name": "stdout",
          "text": [
            "Matrix B:\n",
            " [[1 2 3]\n",
            " [0 4 5]\n",
            " [1 0 6]]\n",
            "Determinant of B = 22.000000000000004\n"
          ]
        }
      ]
    },
    {
      "cell_type": "code",
      "source": [
        "A = np.array([[2, 1],\n",
        "              [0, 3]])\n",
        "B = np.array([[1, 4],\n",
        "              [2, 5]])\n",
        "\n",
        "print(\"det(A) =\", np.linalg.det(A))\n",
        "print(\"det(B) =\", np.linalg.det(B))\n",
        "print(\"det(AB) =\", np.linalg.det(A @ B))\n",
        "print(\"det(A)*det(B) =\", np.linalg.det(A) * np.linalg.det(B))"
      ],
      "metadata": {
        "colab": {
          "base_uri": "https://localhost:8080/"
        },
        "id": "cLVUuw9Tob3b",
        "outputId": "0109d942-1803-4530-dded-e315c9cff943"
      },
      "execution_count": 3,
      "outputs": [
        {
          "output_type": "stream",
          "name": "stdout",
          "text": [
            "det(A) = 6.0\n",
            "det(B) = -2.9999999999999996\n",
            "det(AB) = -17.999999999999996\n",
            "det(A)*det(B) = -17.999999999999996\n"
          ]
        }
      ]
    },
    {
      "cell_type": "code",
      "source": [
        "T = np.array([[2, 1, 5],\n",
        "              [0, 3, 7],\n",
        "              [0, 0, 4]])\n",
        "\n",
        "print(\"Triangular Matrix T:\\n\", T)\n",
        "print(\"det(T) =\", np.linalg.det(T))\n",
        "print(\"Product of diagonal =\", 2*3*4)"
      ],
      "metadata": {
        "colab": {
          "base_uri": "https://localhost:8080/"
        },
        "id": "kTdXW8MAobvo",
        "outputId": "17fe00bb-c1b7-4401-b518-9b7bd0d9728e"
      },
      "execution_count": 4,
      "outputs": [
        {
          "output_type": "stream",
          "name": "stdout",
          "text": [
            "Triangular Matrix T:\n",
            " [[2 1 5]\n",
            " [0 3 7]\n",
            " [0 0 4]]\n",
            "det(T) = 23.999999999999993\n",
            "Product of diagonal = 24\n"
          ]
        }
      ]
    },
    {
      "cell_type": "code",
      "source": [
        "A = np.array([[4, 7],\n",
        "              [2, 6]])\n",
        "\n",
        "# Inverse\n",
        "A_inv = np.linalg.inv(A)\n",
        "print(\"Inverse of A:\\n\", A_inv)\n",
        "\n",
        "# Check: A * A_inv = Identity\n",
        "print(\"A @ A_inv =\\n\", A @ A_inv)"
      ],
      "metadata": {
        "colab": {
          "base_uri": "https://localhost:8080/"
        },
        "id": "zLHYdUYyobn6",
        "outputId": "78b86c8e-e088-4c00-b1fa-1c4dcc966b0d"
      },
      "execution_count": 5,
      "outputs": [
        {
          "output_type": "stream",
          "name": "stdout",
          "text": [
            "Inverse of A:\n",
            " [[ 0.6 -0.7]\n",
            " [-0.2  0.4]]\n",
            "A @ A_inv =\n",
            " [[ 1.00000000e+00 -1.11022302e-16]\n",
            " [ 1.11022302e-16  1.00000000e+00]]\n"
          ]
        }
      ]
    },
    {
      "cell_type": "code",
      "source": [
        "S = np.array([[2, 4],\n",
        "              [1, 2]])  # Second row is a multiple of first\n",
        "\n",
        "print(\"det(S) =\", np.linalg.det(S))  # Should be 0\n",
        "# np.linalg.inv(S)  # This will throw error since det(S)=0"
      ],
      "metadata": {
        "colab": {
          "base_uri": "https://localhost:8080/"
        },
        "id": "44LlpzkHobgC",
        "outputId": "987a4860-00f7-44a4-dabb-c02bada2ac2d"
      },
      "execution_count": 6,
      "outputs": [
        {
          "output_type": "stream",
          "name": "stdout",
          "text": [
            "det(S) = 0.0\n"
          ]
        }
      ]
    },
    {
      "cell_type": "code",
      "source": [
        "A = np.array([[2, 1],\n",
        "              [1, 3]])\n",
        "b = np.array([5, 6])\n",
        "\n",
        "# Method 1: Direct inverse\n",
        "x = np.linalg.inv(A) @ b\n",
        "print(\"Solution using inverse:\", x)\n",
        "\n",
        "# Method 2: Recommended (numerically stable)\n",
        "x2 = np.linalg.solve(A, b)\n",
        "print(\"Solution using np.linalg.solve:\", x2)"
      ],
      "metadata": {
        "colab": {
          "base_uri": "https://localhost:8080/"
        },
        "id": "vrDVjxwFobZe",
        "outputId": "97bafcde-02c3-45bb-c5ed-26cf23bb4a96"
      },
      "execution_count": 7,
      "outputs": [
        {
          "output_type": "stream",
          "name": "stdout",
          "text": [
            "Solution using inverse: [1.8 1.4]\n",
            "Solution using np.linalg.solve: [1.8 1.4]\n"
          ]
        }
      ]
    },
    {
      "cell_type": "code",
      "source": [
        "import matplotlib.pyplot as plt\n",
        "\n",
        "# Transformation matrix\n",
        "A = np.array([[2, 0],\n",
        "              [1, 3]])\n",
        "\n",
        "square = np.array([[0,0],[1,0],[1,1],[0,1],[0,0]])  # unit square\n",
        "transformed = (A @ square.T).T\n",
        "\n",
        "plt.figure(figsize=(6,6))\n",
        "plt.plot(square[:,0], square[:,1], 'b-', label='Unit Square')\n",
        "plt.plot(transformed[:,0], transformed[:,1], 'r--', label='Transformed')\n",
        "plt.axhline(0, color='gray')\n",
        "plt.axvline(0, color='gray')\n",
        "plt.legend()\n",
        "plt.title(f\"Area scaling by det(A) = {round(np.linalg.det(A),2)}\")\n",
        "plt.grid(True)\n",
        "plt.show()"
      ],
      "metadata": {
        "colab": {
          "base_uri": "https://localhost:8080/",
          "height": 545
        },
        "id": "McGtWWVSobTe",
        "outputId": "9767c022-08f0-4664-c99a-f6aa508bd4cd"
      },
      "execution_count": 8,
      "outputs": [
        {
          "output_type": "display_data",
          "data": {
            "text/plain": [
              "<Figure size 600x600 with 1 Axes>"
            ],
            "image/png": "[encoded data removed]"
          },
          "metadata": {}
        }
      ]
    },
    {
      "cell_type": "code",
      "source": [],
      "metadata": {
        "id": "butITRt-obKK"
      },
      "execution_count": null,
      "outputs": []
    },
    {
      "cell_type": "code",
      "source": [],
      "metadata": {
        "id": "t5RbuUSpobFn"
      },
      "execution_count": null,
      "outputs": []
    },
    {
      "cell_type": "code",
      "source": [],
      "metadata": {
        "id": "vh28KxrqobAm"
      },
      "execution_count": null,
      "outputs": []
    },
    {
      "cell_type": "code",
      "source": [],
      "metadata": {
        "id": "mthdppt0oa8E"
      },
      "execution_count": null,
      "outputs": []
    },
    {
      "cell_type": "code",
      "source": [],
      "metadata": {
        "id": "b6orhfvloa3A"
      },
      "execution_count": null,
      "outputs": []
    },
    {
      "cell_type": "code",
      "source": [],
      "metadata": {
        "id": "jpEQoDEAoaxu"
      },
      "execution_count": null,
      "outputs": []
    }
  ]
}