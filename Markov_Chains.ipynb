{
  "nbformat": 4,
  "nbformat_minor": 0,
  "metadata": {
    "colab": {
      "provenance": [],
      "authorship_tag": "ABX9TyNzuKPOL7b1Wtxu6Jb+E7Q1",
      "include_colab_link": true
    },
    "kernelspec": {
      "name": "python3",
      "display_name": "Python 3"
    },
    "language_info": {
      "name": "python"
    }
  },
  "cells": [
    {
      "cell_type": "markdown",
      "metadata": {
        "id": "view-in-github",
        "colab_type": "text"
      },
      "source": [
        "<a href=\"https://colab.research.google.com/github/mostafadentist/python-ipynb/blob/main/Markov_Chains.ipynb\" target=\"_parent\"><img src=\"https://colab.research.google.com/assets/colab-badge.svg\" alt=\"Open In Colab\"/></a>"
      ]
    },
    {
      "cell_type": "code",
      "source": [
        "import numpy as np\n",
        "\n",
        "# Example: Weather model (Sunny, Rainy)\n",
        "P = np.array([[0.8, 0.2],\n",
        "              [0.4, 0.6]])\n",
        "\n",
        "print(\"Transition Matrix:\\n\", P)"
      ],
      "metadata": {
        "colab": {
          "base_uri": "https://localhost:8080/"
        },
        "id": "exQBjzAnt8PR",
        "outputId": "150dcfaa-d3a0-4591-b6e8-7e520b366e97"
      },
      "execution_count": 6,
      "outputs": [
        {
          "output_type": "stream",
          "name": "stdout",
          "text": [
            "Transition Matrix:\n",
            " [[0.8 0.2]\n",
            " [0.4 0.6]]\n"
          ]
        }
      ]
    },
    {
      "cell_type": "code",
      "source": [
        "# Initial state: Start with Sunny\n",
        "state = np.array([1, 0])  # [Sunny, Rainy]\n",
        "\n",
        "# After 1 day\n",
        "state_1 = state @ P\n",
        "print(\"After 1 step:\", state_1)\n",
        "\n",
        "# After 5 days\n",
        "state_5 = state @ np.linalg.matrix_power(P, 5)\n",
        "print(\"After 5 steps:\", state_5)"
      ],
      "metadata": {
        "colab": {
          "base_uri": "https://localhost:8080/"
        },
        "id": "2K7NgxD7t8Jp",
        "outputId": "0f810e71-e2cb-487c-a905-916c156d3003"
      },
      "execution_count": 7,
      "outputs": [
        {
          "output_type": "stream",
          "name": "stdout",
          "text": [
            "After 1 step: [0.8 0.2]\n",
            "After 5 steps: [0.67008 0.32992]\n"
          ]
        }
      ]
    },
    {
      "cell_type": "code",
      "source": [
        "# Solve steady-state system\n",
        "eigvals, eigvecs = np.linalg.eig(P.T)\n",
        "steady = eigvecs[:, np.isclose(eigvals, 1)]\n",
        "steady_state = steady / steady.sum()\n",
        "print(\"Steady-state distribution:\", steady_state.real.ravel())"
      ],
      "metadata": {
        "colab": {
          "base_uri": "https://localhost:8080/"
        },
        "id": "36yGxmzbuhjC",
        "outputId": "e26bab95-4af4-4d13-981a-ee4cccf9466d"
      },
      "execution_count": 8,
      "outputs": [
        {
          "output_type": "stream",
          "name": "stdout",
          "text": [
            "Steady-state distribution: [0.66666667 0.33333333]\n"
          ]
        }
      ]
    },
    {
      "cell_type": "code",
      "source": [
        "# Example: Absorbing states\n",
        "P = np.array([[1, 0, 0],\n",
        "              [0.3, 0.4, 0.3],\n",
        "              [0, 0, 1]])  # States 1 and 3 are absorbing\n",
        "\n",
        "Q = P[1:2,1:2]  # transient states submatrix\n",
        "I = np.eye(Q.shape[0])\n",
        "N = np.linalg.inv(I - Q)  # Fundamental matrix\n",
        "\n",
        "print(\"Fundamental matrix N:\\n\", N)\n",
        "print(\"Expected steps to absorption:\", N.sum())"
      ],
      "metadata": {
        "colab": {
          "base_uri": "https://localhost:8080/"
        },
        "id": "TcXQl0fXuhbh",
        "outputId": "355f8465-9aa7-4a05-83f8-12d2c606963e"
      },
      "execution_count": 9,
      "outputs": [
        {
          "output_type": "stream",
          "name": "stdout",
          "text": [
            "Fundamental matrix N:\n",
            " [[1.66666667]]\n",
            "Expected steps to absorption: 1.6666666666666667\n"
          ]
        }
      ]
    },
    {
      "cell_type": "code",
      "source": [
        "import random\n",
        "\n",
        "def simulate_markov(P, initial_state, steps=20):\n",
        "    n = len(P)\n",
        "    state = initial_state\n",
        "    history = [state]\n",
        "    for _ in range(steps):\n",
        "        state = random.choices(range(n), weights=P[state])[0]\n",
        "        history.append(state)\n",
        "    return history\n",
        "\n",
        "P = [[0.7, 0.3],\n",
        "     [0.4, 0.6]]\n",
        "\n",
        "history = simulate_markov(P, initial_state=0, steps=15)\n",
        "print(\"Simulated states:\", history)"
      ],
      "metadata": {
        "colab": {
          "base_uri": "https://localhost:8080/"
        },
        "id": "lzZK2p98uhVg",
        "outputId": "273386e4-4677-46b4-dcde-6087511bfc43"
      },
      "execution_count": 10,
      "outputs": [
        {
          "output_type": "stream",
          "name": "stdout",
          "text": [
            "Simulated states: [0, 0, 1, 1, 1, 0, 1, 1, 0, 0, 0, 0, 0, 1, 1, 0]\n"
          ]
        }
      ]
    },
    {
      "cell_type": "code",
      "source": [
        "import random\n",
        "\n",
        "def simulate_markov(P, initial_state, steps=20):\n",
        "    n = len(P)\n",
        "    state = initial_state\n",
        "    history = [state]\n",
        "    for _ in range(steps):\n",
        "        state = random.choices(range(n), weights=P[state])[0]\n",
        "        history.append(state)\n",
        "    return history\n",
        "\n",
        "P = [[0.7, 0.3],\n",
        "     [0.4, 0.6]]\n",
        "\n",
        "history = simulate_markov(P, initial_state=0, steps=15)\n",
        "print(\"Simulated states:\", history)"
      ],
      "metadata": {
        "colab": {
          "base_uri": "https://localhost:8080/"
        },
        "id": "D6d1dzuKuhQy",
        "outputId": "f3ca57dc-a44f-4eff-c983-5fe8ac1ac7eb"
      },
      "execution_count": 11,
      "outputs": [
        {
          "output_type": "stream",
          "name": "stdout",
          "text": [
            "Simulated states: [0, 0, 0, 0, 0, 0, 0, 0, 1, 1, 1, 1, 0, 0, 0, 0]\n"
          ]
        }
      ]
    },
    {
      "cell_type": "code",
      "source": [
        "P = np.array([[0.9, 0.1],\n",
        "              [0.8, 0.2]])\n",
        "\n",
        "# Steady state\n",
        "eigvals, eigvecs = np.linalg.eig(P.T)\n",
        "steady = eigvecs[:, np.isclose(eigvals, 1)]\n",
        "steady_state = steady / steady.sum()\n",
        "print(\"Long-run availability of machine:\", steady_state.real.ravel())"
      ],
      "metadata": {
        "colab": {
          "base_uri": "https://localhost:8080/"
        },
        "id": "r--3bW6PuhMW",
        "outputId": "e84b2845-dae0-46a9-e2e1-736cae538ee7"
      },
      "execution_count": 12,
      "outputs": [
        {
          "output_type": "stream",
          "name": "stdout",
          "text": [
            "Long-run availability of machine: [0.88888889 0.11111111]\n"
          ]
        }
      ]
    },
    {
      "cell_type": "code",
      "source": [],
      "metadata": {
        "id": "jeTg7sJ9uhH8"
      },
      "execution_count": null,
      "outputs": []
    },
    {
      "cell_type": "code",
      "source": [],
      "metadata": {
        "id": "kDVFBrSNuhDS"
      },
      "execution_count": null,
      "outputs": []
    },
    {
      "cell_type": "code",
      "source": [],
      "metadata": {
        "id": "gdj5_RNSug-U"
      },
      "execution_count": null,
      "outputs": []
    }
  ]
}