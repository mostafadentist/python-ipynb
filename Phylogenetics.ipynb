{
  "nbformat": 4,
  "nbformat_minor": 0,
  "metadata": {
    "colab": {
      "provenance": [],
      "authorship_tag": "ABX9TyOj6lzJK3q/1BBOpG5T0EYS",
      "include_colab_link": true
    },
    "kernelspec": {
      "name": "python3",
      "display_name": "Python 3"
    },
    "language_info": {
      "name": "python"
    }
  },
  "cells": [
    {
      "cell_type": "markdown",
      "metadata": {
        "id": "view-in-github",
        "colab_type": "text"
      },
      "source": [
        "<a href=\"https://colab.research.google.com/github/mostafadentist/python-ipynb/blob/main/Phylogenetics.ipynb\" target=\"_parent\"><img src=\"https://colab.research.google.com/assets/colab-badge.svg\" alt=\"Open In Colab\"/></a>"
      ]
    },
    {
      "cell_type": "code",
      "source": [
        "from Bio.Seq import Seq\n",
        "from Bio.SeqRecord import SeqRecord\n",
        "from Bio import SeqIO\n",
        "\n",
        "sequences = [\n",
        "    SeqRecord(Seq(\"ATGCGTAC\"), id=\"Species1\"),\n",
        "    SeqRecord(Seq(\"ATGCCGAC\"), id=\"Species2\"),\n",
        "    SeqRecord(Seq(\"ATGCGTAT\"), id=\"Species3\"),\n",
        "    SeqRecord(Seq(\"ATCCGTAC\"), id=\"Species4\")\n",
        "]\n",
        "\n",
        "SeqIO.write(sequences, \"sequences.fasta\", \"fasta\")\n",
        "print(\"Saved sequences to FASTA file.\")"
      ],
      "metadata": {
        "colab": {
          "base_uri": "https://localhost:8080/"
        },
        "id": "UnIgGg7v1xWt",
        "outputId": "ebbbcd0c-27c5-4889-b9ba-dde5dcc58bc1"
      },
      "execution_count": 91,
      "outputs": [
        {
          "output_type": "stream",
          "name": "stdout",
          "text": [
            "Saved sequences to FASTA file.\n"
          ]
        }
      ]
    },
    {
      "cell_type": "code",
      "source": [
        "from itertools import combinations\n",
        "\n",
        "def p_distance(seq1, seq2):\n",
        "    mismatches = sum(a!=b for a,b in zip(seq1, seq2))\n",
        "    return mismatches / len(seq1)\n",
        "\n",
        "for (s1, rec1), (s2, rec2) in combinations(enumerate(sequences), 2):\n",
        "    print(rec1.id, \"-\", rec2.id, \":\", p_distance(rec1.seq, rec2.seq))"
      ],
      "metadata": {
        "colab": {
          "base_uri": "https://localhost:8080/"
        },
        "id": "sjbC_8xS2don",
        "outputId": "5a25df2a-fb65-494b-9750-e51c56615b90"
      },
      "execution_count": 92,
      "outputs": [
        {
          "output_type": "stream",
          "name": "stdout",
          "text": [
            "Species1 - Species2 : 0.25\n",
            "Species1 - Species3 : 0.125\n",
            "Species1 - Species4 : 0.125\n",
            "Species2 - Species3 : 0.375\n",
            "Species2 - Species4 : 0.375\n",
            "Species3 - Species4 : 0.25\n"
          ]
        }
      ]
    },
    {
      "cell_type": "code",
      "source": [
        "from Bio.Align import MultipleSeqAlignment\n",
        "\n",
        "alignment = MultipleSeqAlignment(sequences)  # wrap sequences into MSA\n",
        "dm = calculator.get_distance(alignment)\n",
        "print(dm)"
      ],
      "metadata": {
        "colab": {
          "base_uri": "https://localhost:8080/"
        },
        "id": "farrryvp2dgu",
        "outputId": "7c7ba8bc-49d0-4e43-9117-40cb3497d5c7"
      },
      "execution_count": 94,
      "outputs": [
        {
          "output_type": "stream",
          "name": "stdout",
          "text": [
            "Species1    0.000000\n",
            "Species2    0.250000    0.000000\n",
            "Species3    0.125000    0.375000    0.000000\n",
            "Species4    0.125000    0.375000    0.250000    0.000000\n",
            "    Species1    Species2    Species3    Species4\n"
          ]
        }
      ]
    },
    {
      "cell_type": "code",
      "source": [
        "from Bio.Phylo.TreeConstruction import DistanceTreeConstructor\n",
        "import Bio.Phylo as Phylo\n",
        "\n",
        "constructor = DistanceTreeConstructor()\n",
        "upgma_tree = constructor.upgma(dm)\n",
        "\n",
        "Phylo.draw_ascii(upgma_tree)"
      ],
      "metadata": {
        "colab": {
          "base_uri": "https://localhost:8080/"
        },
        "id": "HRha6t152da6",
        "outputId": "a62d01ba-70ed-48cc-b9ba-41a390e8c555"
      },
      "execution_count": 95,
      "outputs": [
        {
          "output_type": "stream",
          "name": "stdout",
          "text": [
            "  ____________________________________________________________________ Species2\n",
            "_|\n",
            " |                               _____________________________________ Species3\n",
            " |______________________________|\n",
            "                                |            _________________________ Species4\n",
            "                                |___________|\n",
            "                                            |_________________________ Species1\n",
            "\n"
          ]
        }
      ]
    },
    {
      "cell_type": "code",
      "source": [
        "nj_tree = constructor.nj(dm)\n",
        "Phylo.draw_ascii(nj_tree)"
      ],
      "metadata": {
        "colab": {
          "base_uri": "https://localhost:8080/"
        },
        "id": "oWjQNyDA2dT_",
        "outputId": "ef6837d9-32d0-40be-8fd3-745a4b2597a3"
      },
      "execution_count": 96,
      "outputs": [
        {
          "output_type": "stream",
          "name": "stdout",
          "text": [
            " , Species1\n",
            " |\n",
            " |____________________________________________________________________ Species2\n",
            "_|\n",
            " |_________________________________ Species3\n",
            " |\n",
            " |_________________________________ Species4\n",
            "\n"
          ]
        }
      ]
    },
    {
      "cell_type": "code",
      "source": [
        "import matplotlib.pyplot as plt\n",
        "\n",
        "fig = plt.figure(figsize=(6,6))\n",
        "Phylo.draw(nj_tree, do_show=False)\n",
        "plt.show()"
      ],
      "metadata": {
        "colab": {
          "base_uri": "https://localhost:8080/",
          "height": 468
        },
        "id": "9imOXrF22dPb",
        "outputId": "545b5a9e-1eb3-4d41-a125-d44c61fe2417"
      },
      "execution_count": 97,
      "outputs": [
        {
          "output_type": "display_data",
          "data": {
            "text/plain": [
              "<Figure size 600x600 with 0 Axes>"
            ]
          },
          "metadata": {}
        },
        {
          "output_type": "display_data",
          "data": {
            "text/plain": [
              "<Figure size 640x480 with 1 Axes>"
            ],
            "image/png": "[encoded data removed]"
          },
          "metadata": {}
        }
      ]
    },
    {
      "cell_type": "code",
      "source": [
        "Phylo.write(nj_tree, \"phylo_tree.newick\", \"newick\")\n",
        "print(\"Tree saved in Newick format.\")"
      ],
      "metadata": {
        "colab": {
          "base_uri": "https://localhost:8080/"
        },
        "id": "MqRZ-prP2dKl",
        "outputId": "4295bfbf-d3ce-4882-caa1-ed2d2157e042"
      },
      "execution_count": 98,
      "outputs": [
        {
          "output_type": "stream",
          "name": "stdout",
          "text": [
            "Tree saved in Newick format.\n"
          ]
        }
      ]
    },
    {
      "cell_type": "code",
      "source": [],
      "metadata": {
        "id": "QolyyTbj2dGa"
      },
      "execution_count": null,
      "outputs": []
    },
    {
      "cell_type": "code",
      "source": [],
      "metadata": {
        "id": "-mlb9qn12dB9"
      },
      "execution_count": null,
      "outputs": []
    },
    {
      "cell_type": "code",
      "source": [],
      "metadata": {
        "id": "ks-qcd3D2c8A"
      },
      "execution_count": null,
      "outputs": []
    }
  ]
}