{
  "nbformat": 4,
  "nbformat_minor": 0,
  "metadata": {
    "colab": {
      "provenance": [],
      "authorship_tag": "ABX9TyPg6e3/UxcALSwvTEQJu6ai",
      "include_colab_link": true
    },
    "kernelspec": {
      "name": "python3",
      "display_name": "Python 3"
    },
    "language_info": {
      "name": "python"
    }
  },
  "cells": [
    {
      "cell_type": "markdown",
      "metadata": {
        "id": "view-in-github",
        "colab_type": "text"
      },
      "source": [
        "<a href=\"https://colab.research.google.com/github/mostafadentist/python-ipynb/blob/main/Reliability_%26_Replacement_Models.ipynb\" target=\"_parent\"><img src=\"https://colab.research.google.com/assets/colab-badge.svg\" alt=\"Open In Colab\"/></a>"
      ]
    },
    {
      "cell_type": "code",
      "source": [
        "import numpy as np\n",
        "\n",
        "# Component reliabilities\n",
        "R = [0.9, 0.95, 0.92]\n",
        "\n",
        "# Series system = product of reliabilities\n",
        "R_series = np.prod(R)\n",
        "\n",
        "# Parallel system = 1 - product of (1-Ri)\n",
        "R_parallel = 1 - np.prod([1-r for r in R])\n",
        "\n",
        "print(\"Reliability of Series System:\", round(R_series,3))\n",
        "print(\"Reliability of Parallel System:\", round(R_parallel,3))"
      ],
      "metadata": {
        "colab": {
          "base_uri": "https://localhost:8080/"
        },
        "id": "nlJ1v7Qkx6Cz",
        "outputId": "12b15a40-3840-450b-ea8f-87867e9db760"
      },
      "execution_count": 48,
      "outputs": [
        {
          "output_type": "stream",
          "name": "stdout",
          "text": [
            "Reliability of Series System: 0.787\n",
            "Reliability of Parallel System: 1.0\n"
          ]
        }
      ]
    },
    {
      "cell_type": "code",
      "source": [
        "from math import comb\n",
        "\n",
        "def k_out_of_n(n, k, p):\n",
        "    reliability = sum(comb(n,i)*(p**i)*((1-p)**(n-i)) for i in range(k,n+1))\n",
        "    return reliability\n",
        "\n",
        "print(\"Reliability of 2-out-of-3 system (p=0.9):\", round(k_out_of_n(3,2,0.9),3))"
      ],
      "metadata": {
        "colab": {
          "base_uri": "https://localhost:8080/"
        },
        "id": "Sy55NGkPx6IE",
        "outputId": "5120ab69-e0e6-43bd-f0c3-4102551a6e94"
      },
      "execution_count": 49,
      "outputs": [
        {
          "output_type": "stream",
          "name": "stdout",
          "text": [
            "Reliability of 2-out-of-3 system (p=0.9): 0.972\n"
          ]
        }
      ]
    },
    {
      "cell_type": "code",
      "source": [
        "lmbda = 0.01  # failure rate per hour\n",
        "MTTF = 1/lmbda\n",
        "print(\"Mean Time to Failure (hours):\", MTTF)\n",
        "\n",
        "# Reliability at t = 50 hours\n",
        "t = 50\n",
        "R_t = np.exp(-lmbda*t)\n",
        "print(f\"Reliability at {t} hours:\", round(R_t,3))"
      ],
      "metadata": {
        "colab": {
          "base_uri": "https://localhost:8080/"
        },
        "id": "iy1uO0Xlx6Mv",
        "outputId": "ed389cd5-0661-4cd6-ec8b-1907e3bf6f4c"
      },
      "execution_count": 50,
      "outputs": [
        {
          "output_type": "stream",
          "name": "stdout",
          "text": [
            "Mean Time to Failure (hours): 100.0\n",
            "Reliability at 50 hours: 0.607\n"
          ]
        }
      ]
    },
    {
      "cell_type": "code",
      "source": [
        "def replacement_cost(T, cost_replacement, failure_rate):\n",
        "    # T = replacement cycle time\n",
        "    # failure_rate = λ\n",
        "    from scipy.integrate import quad\n",
        "\n",
        "    # Expected cost = preventive replacement + failure cost (if before T)\n",
        "    def density(t): return failure_rate*np.exp(-failure_rate*t)\n",
        "    prob_failure_before_T, _ = quad(density, 0, T)\n",
        "\n",
        "    expected_cost = prob_failure_before_T*cost_replacement + (1-prob_failure_before_T)*cost_replacement\n",
        "    expected_cycle = (1/failure_rate)*(1-np.exp(-failure_rate*T)) + T*np.exp(-failure_rate*T)\n",
        "\n",
        "    return expected_cost/expected_cycle\n",
        "\n",
        "print(\"Cost per unit time:\", replacement_cost(100, 500, 0.01))"
      ],
      "metadata": {
        "colab": {
          "base_uri": "https://localhost:8080/"
        },
        "id": "2VHsHSvcx6R_",
        "outputId": "0916b10d-97a5-491b-f241-40cc5e4a122a"
      },
      "execution_count": 51,
      "outputs": [
        {
          "output_type": "stream",
          "name": "stdout",
          "text": [
            "Cost per unit time: 5.0\n"
          ]
        }
      ]
    },
    {
      "cell_type": "code",
      "source": [
        "def group_replacement(n, T, p, cost_individual, cost_group):\n",
        "    # n components, group replaced every T, probability p of failure per period\n",
        "    import random\n",
        "    total_cost = 0\n",
        "    failures = 0\n",
        "\n",
        "    for t in range(T):\n",
        "        for i in range(n):\n",
        "            if random.random() < p:  # failure\n",
        "                total_cost += cost_individual\n",
        "                failures += 1\n",
        "\n",
        "    total_cost += cost_group  # group replacement\n",
        "    return total_cost / T\n",
        "\n",
        "print(\"Average cost per period:\", group_replacement(10, 5, 0.1, 50, 300))"
      ],
      "metadata": {
        "colab": {
          "base_uri": "https://localhost:8080/"
        },
        "id": "bdb2SJuPx6Zf",
        "outputId": "8c57aab3-8e89-46fc-a24b-986553cba356"
      },
      "execution_count": 52,
      "outputs": [
        {
          "output_type": "stream",
          "name": "stdout",
          "text": [
            "Average cost per period: 110.0\n"
          ]
        }
      ]
    },
    {
      "cell_type": "code",
      "source": [
        "purchase_cost = 10000\n",
        "maintenance = [1000, 2000, 3000, 5000, 7000, 9000]\n",
        "\n",
        "avg_costs = []\n",
        "for t in range(1,len(maintenance)+1):\n",
        "    total_cost = purchase_cost + sum(maintenance[:t])\n",
        "    avg_cost = total_cost/t\n",
        "    avg_costs.append(avg_cost)\n",
        "\n",
        "optimal_year = np.argmin(avg_costs)+1\n",
        "print(\"Optimal replacement year:\", optimal_year)\n",
        "print(\"Average costs per year:\", avg_costs)"
      ],
      "metadata": {
        "colab": {
          "base_uri": "https://localhost:8080/"
        },
        "id": "n78TEV3kx6e7",
        "outputId": "6a41827c-2615-42a3-ad6a-3a760967a29e"
      },
      "execution_count": 53,
      "outputs": [
        {
          "output_type": "stream",
          "name": "stdout",
          "text": [
            "Optimal replacement year: 4\n",
            "Average costs per year: [11000.0, 6500.0, 5333.333333333333, 5250.0, 5600.0, 6166.666666666667]\n"
          ]
        }
      ]
    }
  ]
}