{
  "nbformat": 4,
  "nbformat_minor": 0,
  "metadata": {
    "colab": {
      "provenance": [],
      "authorship_tag": "ABX9TyOnVivF7Z7cf9mwzPkyNmQA",
      "include_colab_link": true
    },
    "kernelspec": {
      "name": "python3",
      "display_name": "Python 3"
    },
    "language_info": {
      "name": "python"
    }
  },
  "cells": [
    {
      "cell_type": "markdown",
      "metadata": {
        "id": "view-in-github",
        "colab_type": "text"
      },
      "source": [
        "<a href=\"https://colab.research.google.com/github/mostafadentist/python-ipynb/blob/main/DNA_and_RNA_Basics.ipynb\" target=\"_parent\"><img src=\"https://colab.research.google.com/assets/colab-badge.svg\" alt=\"Open In Colab\"/></a>"
      ]
    },
    {
      "cell_type": "code",
      "source": [
        "# DNA sequence (as string)\n",
        "dna = \"ATGCGTACGTAGCTAGCTAGC\"\n",
        "\n",
        "# Length\n",
        "print(\"Length of DNA:\", len(dna))\n",
        "\n",
        "# Count nucleotides\n",
        "counts = {base: dna.count(base) for base in \"ATGC\"}\n",
        "print(\"Base counts:\", counts)"
      ],
      "metadata": {
        "colab": {
          "base_uri": "https://localhost:8080/"
        },
        "id": "dUOmQvI1zGW1",
        "outputId": "5adb262e-b8c2-42ba-9154-698efe980a53"
      },
      "execution_count": 61,
      "outputs": [
        {
          "output_type": "stream",
          "name": "stdout",
          "text": [
            "Length of DNA: 21\n",
            "Base counts: {'A': 5, 'T': 5, 'G': 6, 'C': 5}\n"
          ]
        }
      ]
    },
    {
      "cell_type": "code",
      "source": [
        "def gc_content(seq):\n",
        "    g = seq.count(\"G\")\n",
        "    c = seq.count(\"C\")\n",
        "    return (g+c)/len(seq)*100\n",
        "\n",
        "print(\"GC Content:\", round(gc_content(dna), 2), \"%\")"
      ],
      "metadata": {
        "colab": {
          "base_uri": "https://localhost:8080/"
        },
        "id": "XXxB2zerzGRj",
        "outputId": "9d225024-6a15-4f24-9a0c-b2f1876398ce"
      },
      "execution_count": 62,
      "outputs": [
        {
          "output_type": "stream",
          "name": "stdout",
          "text": [
            "GC Content: 52.38 %\n"
          ]
        }
      ]
    },
    {
      "cell_type": "code",
      "source": [
        "complement = {\"A\":\"T\", \"T\":\"A\", \"G\":\"C\", \"C\":\"G\"}\n",
        "def reverse_complement(seq):\n",
        "    return \"\".join(complement[base] for base in reversed(seq))\n",
        "\n",
        "print(\"DNA:\", dna)\n",
        "print(\"Rev Comp:\", reverse_complement(dna))"
      ],
      "metadata": {
        "colab": {
          "base_uri": "https://localhost:8080/"
        },
        "id": "BlpJTDkUzGMi",
        "outputId": "d2678991-40de-49c3-8470-c3c2ef6b56fa"
      },
      "execution_count": 63,
      "outputs": [
        {
          "output_type": "stream",
          "name": "stdout",
          "text": [
            "DNA: ATGCGTACGTAGCTAGCTAGC\n",
            "Rev Comp: GCTAGCTAGCTACGTACGCAT\n"
          ]
        }
      ]
    },
    {
      "cell_type": "code",
      "source": [
        "def transcribe(dna):\n",
        "    return dna.replace(\"T\", \"U\")\n",
        "\n",
        "rna = transcribe(dna)\n",
        "print(\"RNA Transcript:\", rna)"
      ],
      "metadata": {
        "colab": {
          "base_uri": "https://localhost:8080/"
        },
        "id": "PGPTB3njzGHx",
        "outputId": "c4d75fc2-119e-4a9a-b935-2453b53f4820"
      },
      "execution_count": 64,
      "outputs": [
        {
          "output_type": "stream",
          "name": "stdout",
          "text": [
            "RNA Transcript: AUGCGUACGUAGCUAGCUAGC\n"
          ]
        }
      ]
    },
    {
      "cell_type": "code",
      "source": [
        "codon_table = {\n",
        "    \"AUG\":\"M\", \"UUU\":\"F\", \"UUC\":\"F\", \"UUA\":\"L\", \"UUG\":\"L\",\n",
        "    \"UAA\":\"*\", \"UAG\":\"*\", \"UGA\":\"*\"  # stop codons\n",
        "    # (extend with full codon table)\n",
        "}\n",
        "\n",
        "def translate(rna):\n",
        "    protein = \"\"\n",
        "    for i in range(0, len(rna)-2, 3):\n",
        "        codon = rna[i:i+3]\n",
        "        protein += codon_table.get(codon, \"?\")\n",
        "    return protein\n",
        "\n",
        "print(\"Protein:\", translate(rna))"
      ],
      "metadata": {
        "colab": {
          "base_uri": "https://localhost:8080/"
        },
        "id": "URrexUG-zGCC",
        "outputId": "e905345b-bea6-4344-adc1-207f0cc18ae8"
      },
      "execution_count": 65,
      "outputs": [
        {
          "output_type": "stream",
          "name": "stdout",
          "text": [
            "Protein: M??*???\n"
          ]
        }
      ]
    }
  ]
}