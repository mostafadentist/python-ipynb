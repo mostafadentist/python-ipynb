{
  "nbformat": 4,
  "nbformat_minor": 0,
  "metadata": {
    "colab": {
      "provenance": [],
      "authorship_tag": "ABX9TyMhRqtbiVLWwGO18U9lNhwe",
      "include_colab_link": true
    },
    "kernelspec": {
      "name": "python3",
      "display_name": "Python 3"
    },
    "language_info": {
      "name": "python"
    }
  },
  "cells": [
    {
      "cell_type": "markdown",
      "metadata": {
        "id": "view-in-github",
        "colab_type": "text"
      },
      "source": [
        "<a href=\"https://colab.research.google.com/github/mostafadentist/python-ipynb/blob/main/Transportation_Problem.ipynb\" target=\"_parent\"><img src=\"https://colab.research.google.com/assets/colab-badge.svg\" alt=\"Open In Colab\"/></a>"
      ]
    },
    {
      "cell_type": "code",
      "execution_count": 1,
      "metadata": {
        "id": "KZ9e2VsWsjGe"
      },
      "outputs": [],
      "source": [
        "import numpy as np\n",
        "\n",
        "# Supply from factories\n",
        "supply = [20, 30, 25]\n",
        "\n",
        "# Demand at warehouses\n",
        "demand = [10, 10, 15, 40]\n",
        "\n",
        "# Cost matrix\n",
        "cost = np.array([[8, 6, 10, 9],\n",
        "                 [9, 12, 13, 7],\n",
        "                 [14, 9, 16, 5]])"
      ]
    },
    {
      "cell_type": "code",
      "source": [
        "def northwest_corner(supply, demand):\n",
        "    supply = supply.copy()\n",
        "    demand = demand.copy()\n",
        "    m, n = len(supply), len(demand)\n",
        "    allocation = np.zeros((m,n))\n",
        "    i = j = 0\n",
        "    while i < m and j < n:\n",
        "        qty = min(supply[i], demand[j])\n",
        "        allocation[i,j] = qty\n",
        "        supply[i] -= qty\n",
        "        demand[j] -= qty\n",
        "        if supply[i] == 0:\n",
        "            i += 1\n",
        "        else:\n",
        "            j += 1\n",
        "    return allocation\n",
        "\n",
        "alloc = northwest_corner(supply, demand)\n",
        "print(\"Northwest Corner Allocation:\\n\", alloc)\n",
        "print(\"Total Cost =\", np.sum(alloc * cost))"
      ],
      "metadata": {
        "colab": {
          "base_uri": "https://localhost:8080/"
        },
        "id": "xzIhHsOhsl-O",
        "outputId": "18c55019-8db5-4078-d5c1-58d0603e45c0"
      },
      "execution_count": 2,
      "outputs": [
        {
          "output_type": "stream",
          "name": "stdout",
          "text": [
            "Northwest Corner Allocation:\n",
            " [[10. 10.  0.  0.]\n",
            " [ 0.  0. 15. 15.]\n",
            " [ 0.  0.  0. 25.]]\n",
            "Total Cost = 565.0\n"
          ]
        }
      ]
    },
    {
      "cell_type": "code",
      "source": [],
      "metadata": {
        "id": "STvz4AQQslam"
      },
      "execution_count": null,
      "outputs": []
    },
    {
      "cell_type": "code",
      "source": [],
      "metadata": {
        "id": "zNomSlc4slVx"
      },
      "execution_count": null,
      "outputs": []
    },
    {
      "cell_type": "code",
      "source": [],
      "metadata": {
        "id": "QMNLR5m0slQ2"
      },
      "execution_count": null,
      "outputs": []
    },
    {
      "cell_type": "code",
      "source": [],
      "metadata": {
        "id": "-HouK1eDslLr"
      },
      "execution_count": null,
      "outputs": []
    },
    {
      "cell_type": "code",
      "source": [],
      "metadata": {
        "id": "dCO5T7h-slGt"
      },
      "execution_count": null,
      "outputs": []
    }
  ]
}