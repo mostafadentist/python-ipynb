{
  "nbformat": 4,
  "nbformat_minor": 0,
  "metadata": {
    "colab": {
      "provenance": [],
      "authorship_tag": "ABX9TyOtyAOlUQYRE/iZ4k601g9i",
      "include_colab_link": true
    },
    "kernelspec": {
      "name": "python3",
      "display_name": "Python 3"
    },
    "language_info": {
      "name": "python"
    }
  },
  "cells": [
    {
      "cell_type": "markdown",
      "metadata": {
        "id": "view-in-github",
        "colab_type": "text"
      },
      "source": [
        "<a href=\"https://colab.research.google.com/github/mostafadentist/python-ipynb/blob/main/Sequence_Alignment.ipynb\" target=\"_parent\"><img src=\"https://colab.research.google.com/assets/colab-badge.svg\" alt=\"Open In Colab\"/></a>"
      ]
    },
    {
      "cell_type": "code",
      "source": [
        "import numpy as np\n",
        "\n",
        "def needleman_wunsch(seq1, seq2, match=1, mismatch=-1, gap=-2):\n",
        "    n, m = len(seq1), len(seq2)\n",
        "    score = np.zeros((n+1, m+1), dtype=int)\n",
        "\n",
        "    # Initialization\n",
        "    for i in range(1, n+1):\n",
        "        score[i,0] = i*gap\n",
        "    for j in range(1, m+1):\n",
        "        score[0,j] = j*gap\n",
        "\n",
        "    # Matrix filling\n",
        "    for i in range(1, n+1):\n",
        "        for j in range(1, m+1):\n",
        "            diag = score[i-1,j-1] + (match if seq1[i-1]==seq2[j-1] else mismatch)\n",
        "            delete = score[i-1,j] + gap\n",
        "            insert = score[i,j-1] + gap\n",
        "            score[i,j] = max(diag, delete, insert)\n",
        "\n",
        "    # Traceback\n",
        "    align1, align2 = \"\", \"\"\n",
        "    i, j = n, m\n",
        "    while i>0 or j>0:\n",
        "        current = score[i,j]\n",
        "        if i>0 and j>0 and current == score[i-1,j-1] + (match if seq1[i-1]==seq2[j-1] else mismatch):\n",
        "            align1 = seq1[i-1] + align1\n",
        "            align2 = seq2[j-1] + align2\n",
        "            i -= 1; j -= 1\n",
        "        elif i>0 and current == score[i-1,j] + gap:\n",
        "            align1 = seq1[i-1] + align1\n",
        "            align2 = \"-\" + align2\n",
        "            i -= 1\n",
        "        else:\n",
        "            align1 = \"-\" + align1\n",
        "            align2 = seq2[j-1] + align2\n",
        "            j -= 1\n",
        "    return score, align1, align2\n",
        "\n",
        "s1, s2 = \"ACGT\", \"ACT\"\n",
        "matrix, a1, a2 = needleman_wunsch(s1, s2)\n",
        "print(\"Alignment:\\n\", a1, \"\\n\", a2)\n",
        "print(\"Score Matrix:\\n\", matrix)"
      ],
      "metadata": {
        "colab": {
          "base_uri": "https://localhost:8080/"
        },
        "id": "V0VunUg11CMF",
        "outputId": "a18c6123-f130-4597-ea12-7fe913414865"
      },
      "execution_count": 78,
      "outputs": [
        {
          "output_type": "stream",
          "name": "stdout",
          "text": [
            "Alignment:\n",
            " ACGT \n",
            " AC-T\n",
            "Score Matrix:\n",
            " [[ 0 -2 -4 -6]\n",
            " [-2  1 -1 -3]\n",
            " [-4 -1  2  0]\n",
            " [-6 -3  0  1]\n",
            " [-8 -5 -2  1]]\n"
          ]
        }
      ]
    },
    {
      "cell_type": "code",
      "source": [
        "def smith_waterman(seq1, seq2, match=2, mismatch=-1, gap=-1):\n",
        "    n, m = len(seq1), len(seq2)\n",
        "    score = np.zeros((n+1, m+1), dtype=int)\n",
        "\n",
        "    max_score, max_pos = 0, None\n",
        "\n",
        "    # Matrix filling\n",
        "    for i in range(1, n+1):\n",
        "        for j in range(1, m+1):\n",
        "            diag = score[i-1,j-1] + (match if seq1[i-1]==seq2[j-1] else mismatch)\n",
        "            delete = score[i-1,j] + gap\n",
        "            insert = score[i,j-1] + gap\n",
        "            score[i,j] = max(0, diag, delete, insert)\n",
        "\n",
        "            if score[i,j] >= max_score:\n",
        "                max_score = score[i,j]\n",
        "                max_pos = (i,j)\n",
        "\n",
        "    # Traceback\n",
        "    align1, align2 = \"\", \"\"\n",
        "    i, j = max_pos\n",
        "    while score[i,j] != 0:\n",
        "        current = score[i,j]\n",
        "        if current == score[i-1,j-1] + (match if seq1[i-1]==seq2[j-1] else mismatch):\n",
        "            align1 = seq1[i-1] + align1\n",
        "            align2 = seq2[j-1] + align2\n",
        "            i -= 1; j -= 1\n",
        "        elif current == score[i-1,j] + gap:\n",
        "            align1 = seq1[i-1] + align1\n",
        "            align2 = \"-\" + align2\n",
        "            i -= 1\n",
        "        else:\n",
        "            align1 = \"-\" + align1\n",
        "            align2 = seq2[j-1] + align2\n",
        "            j -= 1\n",
        "    return score, align1, align2, max_score\n",
        "\n",
        "s1, s2 = \"ACACACTA\", \"AGCACACA\"\n",
        "matrix, a1, a2, max_score = smith_waterman(s1, s2)\n",
        "print(\"Local Alignment:\\n\", a1, \"\\n\", a2)\n",
        "print(\"Best Score:\", max_score)"
      ],
      "metadata": {
        "colab": {
          "base_uri": "https://localhost:8080/"
        },
        "id": "MZC5Abd21CBI",
        "outputId": "2e7b33e4-ded2-4593-d4d1-39d14d820aa2"
      },
      "execution_count": 79,
      "outputs": [
        {
          "output_type": "stream",
          "name": "stdout",
          "text": [
            "Local Alignment:\n",
            " A-CACACTA \n",
            " AGCACAC-A\n",
            "Best Score: 12\n"
          ]
        }
      ]
    },
    {
      "cell_type": "code",
      "source": [
        "def smith_waterman(seq1, seq2, match=2, mismatch=-1, gap=-1):\n",
        "    n, m = len(seq1), len(seq2)\n",
        "    score = np.zeros((n+1, m+1), dtype=int)\n",
        "\n",
        "    max_score, max_pos = 0, None\n",
        "\n",
        "    # Matrix filling\n",
        "    for i in range(1, n+1):\n",
        "        for j in range(1, m+1):\n",
        "            diag = score[i-1,j-1] + (match if seq1[i-1]==seq2[j-1] else mismatch)\n",
        "            delete = score[i-1,j] + gap\n",
        "            insert = score[i,j-1] + gap\n",
        "            score[i,j] = max(0, diag, delete, insert)\n",
        "\n",
        "            if score[i,j] >= max_score:\n",
        "                max_score = score[i,j]\n",
        "                max_pos = (i,j)\n",
        "\n",
        "    # Traceback\n",
        "    align1, align2 = \"\", \"\"\n",
        "    i, j = max_pos\n",
        "    while score[i,j] != 0:\n",
        "        current = score[i,j]\n",
        "        if current == score[i-1,j-1] + (match if seq1[i-1]==seq2[j-1] else mismatch):\n",
        "            align1 = seq1[i-1] + align1\n",
        "            align2 = seq2[j-1] + align2\n",
        "            i -= 1; j -= 1\n",
        "        elif current == score[i-1,j] + gap:\n",
        "            align1 = seq1[i-1] + align1\n",
        "            align2 = \"-\" + align2\n",
        "            i -= 1\n",
        "        else:\n",
        "            align1 = \"-\" + align1\n",
        "            align2 = seq2[j-1] + align2\n",
        "            j -= 1\n",
        "    return score, align1, align2, max_score\n",
        "\n",
        "s1, s2 = \"ACACACTA\", \"AGCACACA\"\n",
        "matrix, a1, a2, max_score = smith_waterman(s1, s2)\n",
        "print(\"Local Alignment:\\n\", a1, \"\\n\", a2)\n",
        "print(\"Best Score:\", max_score)"
      ],
      "metadata": {
        "colab": {
          "base_uri": "https://localhost:8080/"
        },
        "id": "o_mgmY3h1B6d",
        "outputId": "8508a620-2d79-4277-90bd-7efe7905cfe1"
      },
      "execution_count": 80,
      "outputs": [
        {
          "output_type": "stream",
          "name": "stdout",
          "text": [
            "Local Alignment:\n",
            " A-CACACTA \n",
            " AGCACAC-A\n",
            "Best Score: 12\n"
          ]
        }
      ]
    },
    {
      "cell_type": "code",
      "source": [
        "!pip install biopython\n",
        "from Bio import pairwise2\n",
        "from Bio.pairwise2 import format_alignment\n",
        "\n",
        "seq1 = \"ACCGT\"\n",
        "seq2 = \"ACG\"\n",
        "\n",
        "# Global alignment\n",
        "alignments = pairwise2.align.globalms(seq1, seq2, 2, -1, -2, -0.5)\n",
        "for aln in alignments:\n",
        "    print(format_alignment(*aln))\n",
        "\n",
        "# Local alignment\n",
        "alignments = pairwise2.align.localms(seq1, seq2, 2, -1, -2, -0.5)\n",
        "for aln in alignments:\n",
        "    print(format_alignment(*aln))"
      ],
      "metadata": {
        "colab": {
          "base_uri": "https://localhost:8080/"
        },
        "id": "B8oJ34CU1UbX",
        "outputId": "02ff9aa2-023d-428a-b819-a250aca86491"
      },
      "execution_count": 81,
      "outputs": [
        {
          "output_type": "stream",
          "name": "stdout",
          "text": [
            "Requirement already satisfied: biopython in /usr/local/lib/python3.12/dist-packages (1.85)\n",
            "Requirement already satisfied: numpy in /usr/local/lib/python3.12/dist-packages (from biopython) (2.0.2)\n",
            "ACCGT\n",
            "| || \n",
            "A-CG-\n",
            "  Score=2\n",
            "\n",
            "ACCGT\n",
            "|| | \n",
            "AC-G-\n",
            "  Score=2\n",
            "\n",
            "3 CG\n",
            "  ||\n",
            "2 CG\n",
            "  Score=4\n",
            "\n",
            "1 AC\n",
            "  ||\n",
            "1 AC\n",
            "  Score=4\n",
            "\n"
          ]
        },
        {
          "output_type": "stream",
          "name": "stderr",
          "text": [
            "/usr/local/lib/python3.12/dist-packages/Bio/pairwise2.py:278: BiopythonDeprecationWarning: Bio.pairwise2 has been deprecated, and we intend to remove it in a future release of Biopython. As an alternative, please consider using Bio.Align.PairwiseAligner as a replacement, and contact the Biopython developers if you still need the Bio.pairwise2 module.\n",
            "  warnings.warn(\n"
          ]
        }
      ]
    },
    {
      "cell_type": "code",
      "source": [
        "!pip install biopython\n",
        "from Bio.Align import MultipleSeqAlignment\n",
        "from Bio.Seq import Seq\n",
        "from Bio.SeqRecord import SeqRecord\n",
        "\n",
        "alignment = MultipleSeqAlignment([\n",
        "    SeqRecord(Seq(\"ACTGCT\"), id=\"Seq1\"),\n",
        "    SeqRecord(Seq(\"ACT-CT\"), id=\"Seq2\"),\n",
        "    SeqRecord(Seq(\"A-TGTT\"), id=\"Seq3\")\n",
        "])\n",
        "\n",
        "print(alignment)"
      ],
      "metadata": {
        "colab": {
          "base_uri": "https://localhost:8080/"
        },
        "id": "5TslSwvP1UWJ",
        "outputId": "3fa1b4b0-96bd-4ae6-9494-cc09bae81d6b"
      },
      "execution_count": 82,
      "outputs": [
        {
          "output_type": "stream",
          "name": "stdout",
          "text": [
            "Requirement already satisfied: biopython in /usr/local/lib/python3.12/dist-packages (1.85)\n",
            "Requirement already satisfied: numpy in /usr/local/lib/python3.12/dist-packages (from biopython) (2.0.2)\n",
            "Alignment with 3 rows and 6 columns\n",
            "ACTGCT Seq1\n",
            "ACT-CT Seq2\n",
            "A-TGTT Seq3\n"
          ]
        }
      ]
    },
    {
      "cell_type": "code",
      "source": [
        "def plot_alignment(seq1, seq2, align1, align2):\n",
        "    matches = [\"|\" if a==b else \" \" for a,b in zip(align1,align2)]\n",
        "    print(seq1 + \"\\n\" + \"\".join(matches) + \"\\n\" + seq2)\n",
        "\n",
        "plot_alignment(\"ACGT\", \"ACT\", a1, a2)"
      ],
      "metadata": {
        "colab": {
          "base_uri": "https://localhost:8080/"
        },
        "id": "86Gvd1cY1UPr",
        "outputId": "aeb1e827-33b8-43eb-9135-4ffe3f6afde7"
      },
      "execution_count": 83,
      "outputs": [
        {
          "output_type": "stream",
          "name": "stdout",
          "text": [
            "ACGT\n",
            "| ||||| |\n",
            "ACT\n"
          ]
        }
      ]
    }
  ]
}