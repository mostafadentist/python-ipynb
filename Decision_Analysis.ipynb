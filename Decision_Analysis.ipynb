{
  "nbformat": 4,
  "nbformat_minor": 0,
  "metadata": {
    "colab": {
      "provenance": [],
      "authorship_tag": "ABX9TyNTqrwmKQk5aIJiTiHSCQxk",
      "include_colab_link": true
    },
    "kernelspec": {
      "name": "python3",
      "display_name": "Python 3"
    },
    "language_info": {
      "name": "python"
    }
  },
  "cells": [
    {
      "cell_type": "markdown",
      "metadata": {
        "id": "view-in-github",
        "colab_type": "text"
      },
      "source": [
        "<a href=\"https://colab.research.google.com/github/mostafadentist/python-ipynb/blob/main/Decision_Analysis.ipynb\" target=\"_parent\"><img src=\"https://colab.research.google.com/assets/colab-badge.svg\" alt=\"Open In Colab\"/></a>"
      ]
    },
    {
      "cell_type": "code",
      "source": [
        "!pip install pulp"
      ],
      "metadata": {
        "colab": {
          "base_uri": "https://localhost:8080/"
        },
        "id": "sBlhS-CWv_kb",
        "outputId": "f5561002-fe73-46f8-813f-c524d2a31e1a"
      },
      "execution_count": 25,
      "outputs": [
        {
          "output_type": "stream",
          "name": "stdout",
          "text": [
            "Collecting pulp\n",
            "  Downloading pulp-3.2.2-py3-none-any.whl.metadata (6.9 kB)\n",
            "Downloading pulp-3.2.2-py3-none-any.whl (16.4 MB)\n",
            "\u001b[2K   \u001b[90m━━━━━━━━━━━━━━━━━━━━━━━━━━━━━━━━━━━━━━━━\u001b[0m \u001b[32m16.4/16.4 MB\u001b[0m \u001b[31m90.9 MB/s\u001b[0m eta \u001b[36m0:00:00\u001b[0m\n",
            "\u001b[?25hInstalling collected packages: pulp\n",
            "Successfully installed pulp-3.2.2\n"
          ]
        }
      ]
    },
    {
      "cell_type": "code",
      "source": [
        "import numpy as np\n",
        "import pandas as pd\n",
        "\n",
        "# Decision alternatives (rows) vs States of Nature (columns)\n",
        "payoff = np.array([[100, 50, 20],\n",
        "                   [60, 70, 30],\n",
        "                   [20, 80, 90]])\n",
        "\n",
        "states = [\"S1\",\"S2\",\"S3\"]\n",
        "decisions = [\"D1\",\"D2\",\"D3\"]\n",
        "\n",
        "df = pd.DataFrame(payoff, index=decisions, columns=states)\n",
        "print(\"Payoff Table:\\n\", df)"
      ],
      "metadata": {
        "colab": {
          "base_uri": "https://localhost:8080/"
        },
        "id": "fvzvBA9uvdTi",
        "outputId": "fca9a6bf-ede1-4695-be4c-d6688e5beeed"
      },
      "execution_count": 30,
      "outputs": [
        {
          "output_type": "stream",
          "name": "stdout",
          "text": [
            "Payoff Table:\n",
            "      S1  S2  S3\n",
            "D1  100  50  20\n",
            "D2   60  70  30\n",
            "D3   20  80  90\n"
          ]
        }
      ]
    },
    {
      "cell_type": "code",
      "source": [
        "# Maximax (optimistic)\n",
        "maximax = payoff.max(axis=1).max()\n",
        "\n",
        "# Maximin (pessimistic)\n",
        "maximin = payoff.min(axis=1).max()\n",
        "\n",
        "# Minimax regret\n",
        "regret = payoff.max(axis=0) - payoff\n",
        "minimax_regret = regret.max(axis=1).min()\n",
        "\n",
        "print(\"Maximax =\", maximax)\n",
        "print(\"Maximin =\", maximin)\n",
        "print(\"Minimax Regret =\", minimax_regret)"
      ],
      "metadata": {
        "colab": {
          "base_uri": "https://localhost:8080/"
        },
        "id": "ccBIEEfrvdOk",
        "outputId": "b4c17781-0216-4c64-98be-fcb8780ac445"
      },
      "execution_count": 31,
      "outputs": [
        {
          "output_type": "stream",
          "name": "stdout",
          "text": [
            "Maximax = 100\n",
            "Maximin = 30\n",
            "Minimax Regret = 60\n"
          ]
        }
      ]
    },
    {
      "cell_type": "code",
      "source": [
        "probabilities = np.array([0.4, 0.35, 0.25])  # P(S1), P(S2), P(S3)\n",
        "\n",
        "EMV = payoff @ probabilities\n",
        "best_decision = decisions[np.argmax(EMV)]\n",
        "\n",
        "print(\"Expected Monetary Values:\", EMV)\n",
        "print(\"Best decision under risk:\", best_decision)"
      ],
      "metadata": {
        "colab": {
          "base_uri": "https://localhost:8080/"
        },
        "id": "H6EkUV-_wZJQ",
        "outputId": "3d42ffdc-3bbb-4de1-d400-6acd07345120"
      },
      "execution_count": 32,
      "outputs": [
        {
          "output_type": "stream",
          "name": "stdout",
          "text": [
            "Expected Monetary Values: [62.5 56.  58.5]\n",
            "Best decision under risk: D1\n"
          ]
        }
      ]
    },
    {
      "cell_type": "code",
      "source": [
        "perfect_info = (payoff.max(axis=0) @ probabilities)\n",
        "EVPI = perfect_info - EMV.max()\n",
        "\n",
        "print(\"EV of Perfect Information =\", EVPI)"
      ],
      "metadata": {
        "colab": {
          "base_uri": "https://localhost:8080/"
        },
        "id": "0r2VmSypwZDf",
        "outputId": "e1bba016-0197-41fe-c1ad-cfea2adffc10"
      },
      "execution_count": 33,
      "outputs": [
        {
          "output_type": "stream",
          "name": "stdout",
          "text": [
            "EV of Perfect Information = 28.0\n"
          ]
        }
      ]
    },
    {
      "cell_type": "code",
      "source": [
        "# Example tree: invest vs not invest\n",
        "# If invest: success (0.6, +100), failure (0.4, -50)\n",
        "# If not invest: payoff = +20\n",
        "\n",
        "invest_success = 0.6*100 + 0.4*(-50)\n",
        "not_invest = 20\n",
        "\n",
        "if invest_success > not_invest:\n",
        "    decision = \"Invest\"\n",
        "else:\n",
        "    decision = \"Do not invest\"\n",
        "\n",
        "print(\"Expected Value (Invest):\", invest_success)\n",
        "print(\"Expected Value (Not Invest):\", not_invest)\n",
        "print(\"Optimal Decision:\", decision)"
      ],
      "metadata": {
        "colab": {
          "base_uri": "https://localhost:8080/"
        },
        "id": "Dd2Rq3xwwY9z",
        "outputId": "88218658-94d3-422a-e4e4-27eceecd030e"
      },
      "execution_count": 34,
      "outputs": [
        {
          "output_type": "stream",
          "name": "stdout",
          "text": [
            "Expected Value (Invest): 40.0\n",
            "Expected Value (Not Invest): 20\n",
            "Optimal Decision: Invest\n"
          ]
        }
      ]
    },
    {
      "cell_type": "code",
      "source": [
        "# Example: exponential utility (risk-averse)\n",
        "import math\n",
        "\n",
        "def utility(x, r=0.01):\n",
        "    return 1 - math.exp(-r*x)\n",
        "\n",
        "payoffs = [100, 50, -20]\n",
        "utilities = [utility(x) for x in payoffs]\n",
        "\n",
        "print(\"Payoffs:\", payoffs)\n",
        "print(\"Utilities:\", utilities)"
      ],
      "metadata": {
        "colab": {
          "base_uri": "https://localhost:8080/"
        },
        "id": "xm2HdMB1wY4q",
        "outputId": "9cdcf2af-0437-4da4-efd5-661b80151c84"
      },
      "execution_count": 35,
      "outputs": [
        {
          "output_type": "stream",
          "name": "stdout",
          "text": [
            "Payoffs: [100, 50, -20]\n",
            "Utilities: [0.6321205588285577, 0.3934693402873666, -0.22140275816016985]\n"
          ]
        }
      ]
    },
    {
      "cell_type": "code",
      "source": [],
      "metadata": {
        "id": "A-VPK165wYzh"
      },
      "execution_count": null,
      "outputs": []
    },
    {
      "cell_type": "code",
      "source": [],
      "metadata": {
        "id": "0BvrhiH3wYui"
      },
      "execution_count": null,
      "outputs": []
    }
  ]
}